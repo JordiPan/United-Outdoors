{
 "cells": [
  {
   "cell_type": "code",
   "execution_count": 4,
   "metadata": {},
   "outputs": [],
   "source": [
    "import pandas as pd\n",
    "from sklearn.cluster import KMeans\n",
    "import math\n",
    "import matplotlib.pyplot as plt\n",
    "import warnings\n",
    "import numpy as np\n",
    "warnings.simplefilter('ignore')\n",
    "import pyodbc\n",
    "import sqlite3"
   ]
  },
  {
   "cell_type": "code",
   "execution_count": 6,
   "metadata": {},
   "outputs": [],
   "source": [
    "servername = 'LAPTOP-RPEMJO16\\\\SQLEXPRESS'"
   ]
  },
  {
   "cell_type": "code",
   "execution_count": 8,
   "metadata": {},
   "outputs": [
    {
     "data": {
      "text/plain": [
       "<pyodbc.Cursor at 0x20fc49e7430>"
      ]
     },
     "execution_count": 8,
     "metadata": {},
     "output_type": "execute_result"
    }
   ],
   "source": [
    "UO_conn = pyodbc.connect('DRIVER={SQL SERVER};SERVER='+servername+';DATABASE=UnitedOutdoors; Trusted_Connection=yes')\n",
    "odCursor = UO_conn.cursor()\n",
    "odCursor"
   ]
  },
  {
   "cell_type": "code",
   "execution_count": 11,
   "metadata": {},
   "outputs": [
    {
     "data": {
      "text/plain": [
       "order_details_sk         int64\n",
       "order_id                 int64\n",
       "product_quantity         int64\n",
       "product_listprice      float64\n",
       "order_date              object\n",
       "shipping_date           object\n",
       "product_productid        int64\n",
       "product_sk              object\n",
       "employee_employeeid    float64\n",
       "employee_sk             object\n",
       "customer_id             object\n",
       "customer_sk             object\n",
       "source                  object\n",
       "dtype: object"
      ]
     },
     "execution_count": 11,
     "metadata": {},
     "output_type": "execute_result"
    }
   ],
   "source": [
    "order_details = pd.read_sql_query('SELECT * FROM dbo.order_details', UO_conn)\n",
    "order_details.dtypes\n"
   ]
  },
  {
   "cell_type": "code",
   "execution_count": 53,
   "metadata": {},
   "outputs": [
    {
     "data": {
      "text/html": [
       "<div>\n",
       "<style scoped>\n",
       "    .dataframe tbody tr th:only-of-type {\n",
       "        vertical-align: middle;\n",
       "    }\n",
       "\n",
       "    .dataframe tbody tr th {\n",
       "        vertical-align: top;\n",
       "    }\n",
       "\n",
       "    .dataframe thead th {\n",
       "        text-align: right;\n",
       "    }\n",
       "</style>\n",
       "<table border=\"1\" class=\"dataframe\">\n",
       "  <thead>\n",
       "    <tr style=\"text-align: right;\">\n",
       "      <th></th>\n",
       "      <th>customer_id</th>\n",
       "      <th>amountoforders</th>\n",
       "    </tr>\n",
       "  </thead>\n",
       "  <tbody>\n",
       "    <tr>\n",
       "      <th>0</th>\n",
       "      <td>101</td>\n",
       "      <td>11</td>\n",
       "    </tr>\n",
       "    <tr>\n",
       "      <th>1</th>\n",
       "      <td>102</td>\n",
       "      <td>8</td>\n",
       "    </tr>\n",
       "    <tr>\n",
       "      <th>2</th>\n",
       "      <td>103</td>\n",
       "      <td>8</td>\n",
       "    </tr>\n",
       "    <tr>\n",
       "      <th>3</th>\n",
       "      <td>104</td>\n",
       "      <td>11</td>\n",
       "    </tr>\n",
       "    <tr>\n",
       "      <th>4</th>\n",
       "      <td>105</td>\n",
       "      <td>6</td>\n",
       "    </tr>\n",
       "    <tr>\n",
       "      <th>...</th>\n",
       "      <td>...</td>\n",
       "      <td>...</td>\n",
       "    </tr>\n",
       "    <tr>\n",
       "      <th>19312</th>\n",
       "      <td>WARTH</td>\n",
       "      <td>15</td>\n",
       "    </tr>\n",
       "    <tr>\n",
       "      <th>19313</th>\n",
       "      <td>WELLI</td>\n",
       "      <td>9</td>\n",
       "    </tr>\n",
       "    <tr>\n",
       "      <th>19314</th>\n",
       "      <td>WHITC</td>\n",
       "      <td>14</td>\n",
       "    </tr>\n",
       "    <tr>\n",
       "      <th>19315</th>\n",
       "      <td>WILMK</td>\n",
       "      <td>7</td>\n",
       "    </tr>\n",
       "    <tr>\n",
       "      <th>19316</th>\n",
       "      <td>WOLZA</td>\n",
       "      <td>7</td>\n",
       "    </tr>\n",
       "  </tbody>\n",
       "</table>\n",
       "<p>19317 rows × 2 columns</p>\n",
       "</div>"
      ],
      "text/plain": [
       "      customer_id  amountoforders\n",
       "0             101              11\n",
       "1             102               8\n",
       "2             103               8\n",
       "3             104              11\n",
       "4             105               6\n",
       "...           ...             ...\n",
       "19312       WARTH              15\n",
       "19313       WELLI               9\n",
       "19314       WHITC              14\n",
       "19315       WILMK               7\n",
       "19316       WOLZA               7\n",
       "\n",
       "[19317 rows x 2 columns]"
      ]
     },
     "execution_count": 53,
     "metadata": {},
     "output_type": "execute_result"
    }
   ],
   "source": [
    "order_details['purchaseamount'] = order_details['product_quantity'] * order_details['product_listprice']\n",
    "order_details\n",
    "grouped_order_details = order_details.groupby('customer_id')['purchaseamount'].sum().reset_index()\n",
    "grouped_order_details = grouped_order_details.rename(columns={'purchaseamount': 'totalpurchaseamount'})\n",
    "grouped_order_details.sort_values('totalpurchaseamount', ascending=False)\n",
    "\n",
    "order_details_freq = order_details[['customer_id', 'order_date']]\n",
    "order_details_freq = order_details_freq.drop_duplicates(subset=['customer_id', 'order_date'])\n",
    "order_details_freq\n",
    "customer_order_counts = order_details_freq.groupby('customer_id').size().reset_index(name='amountoforders')\n",
    "customer_order_counts"
   ]
  },
  {
   "cell_type": "code",
   "execution_count": 55,
   "metadata": {},
   "outputs": [
    {
     "data": {
      "text/html": [
       "<div>\n",
       "<style scoped>\n",
       "    .dataframe tbody tr th:only-of-type {\n",
       "        vertical-align: middle;\n",
       "    }\n",
       "\n",
       "    .dataframe tbody tr th {\n",
       "        vertical-align: top;\n",
       "    }\n",
       "\n",
       "    .dataframe thead th {\n",
       "        text-align: right;\n",
       "    }\n",
       "</style>\n",
       "<table border=\"1\" class=\"dataframe\">\n",
       "  <thead>\n",
       "    <tr style=\"text-align: right;\">\n",
       "      <th></th>\n",
       "      <th>customer_id</th>\n",
       "      <th>amountoforders</th>\n",
       "      <th>totalpurchaseamount</th>\n",
       "    </tr>\n",
       "  </thead>\n",
       "  <tbody>\n",
       "    <tr>\n",
       "      <th>0</th>\n",
       "      <td>101</td>\n",
       "      <td>11</td>\n",
       "      <td>5748.00</td>\n",
       "    </tr>\n",
       "    <tr>\n",
       "      <th>1</th>\n",
       "      <td>102</td>\n",
       "      <td>8</td>\n",
       "      <td>3624.00</td>\n",
       "    </tr>\n",
       "    <tr>\n",
       "      <th>2</th>\n",
       "      <td>103</td>\n",
       "      <td>8</td>\n",
       "      <td>4080.00</td>\n",
       "    </tr>\n",
       "    <tr>\n",
       "      <th>3</th>\n",
       "      <td>104</td>\n",
       "      <td>11</td>\n",
       "      <td>6684.00</td>\n",
       "    </tr>\n",
       "    <tr>\n",
       "      <th>4</th>\n",
       "      <td>105</td>\n",
       "      <td>6</td>\n",
       "      <td>3540.00</td>\n",
       "    </tr>\n",
       "    <tr>\n",
       "      <th>...</th>\n",
       "      <td>...</td>\n",
       "      <td>...</td>\n",
       "      <td>...</td>\n",
       "    </tr>\n",
       "    <tr>\n",
       "      <th>19312</th>\n",
       "      <td>WARTH</td>\n",
       "      <td>15</td>\n",
       "      <td>16617.10</td>\n",
       "    </tr>\n",
       "    <tr>\n",
       "      <th>19313</th>\n",
       "      <td>WELLI</td>\n",
       "      <td>9</td>\n",
       "      <td>6480.70</td>\n",
       "    </tr>\n",
       "    <tr>\n",
       "      <th>19314</th>\n",
       "      <td>WHITC</td>\n",
       "      <td>14</td>\n",
       "      <td>29073.45</td>\n",
       "    </tr>\n",
       "    <tr>\n",
       "      <th>19315</th>\n",
       "      <td>WILMK</td>\n",
       "      <td>7</td>\n",
       "      <td>3161.35</td>\n",
       "    </tr>\n",
       "    <tr>\n",
       "      <th>19316</th>\n",
       "      <td>WOLZA</td>\n",
       "      <td>7</td>\n",
       "      <td>3531.95</td>\n",
       "    </tr>\n",
       "  </tbody>\n",
       "</table>\n",
       "<p>19317 rows × 3 columns</p>\n",
       "</div>"
      ],
      "text/plain": [
       "      customer_id  amountoforders  totalpurchaseamount\n",
       "0             101              11              5748.00\n",
       "1             102               8              3624.00\n",
       "2             103               8              4080.00\n",
       "3             104              11              6684.00\n",
       "4             105               6              3540.00\n",
       "...           ...             ...                  ...\n",
       "19312       WARTH              15             16617.10\n",
       "19313       WELLI               9              6480.70\n",
       "19314       WHITC              14             29073.45\n",
       "19315       WILMK               7              3161.35\n",
       "19316       WOLZA               7              3531.95\n",
       "\n",
       "[19317 rows x 3 columns]"
      ]
     },
     "execution_count": 55,
     "metadata": {},
     "output_type": "execute_result"
    }
   ],
   "source": [
    "amt_purquan = customer_order_counts.merge(grouped_order_details, on='customer_id')\n",
    "amt_purquan"
   ]
  }
 ],
 "metadata": {
  "kernelspec": {
   "display_name": "Clusterng",
   "language": "python",
   "name": "clusterng"
  },
  "language_info": {
   "codemirror_mode": {
    "name": "ipython",
    "version": 3
   },
   "file_extension": ".py",
   "mimetype": "text/x-python",
   "name": "python",
   "nbconvert_exporter": "python",
   "pygments_lexer": "ipython3",
   "version": "3.12.2"
  }
 },
 "nbformat": 4,
 "nbformat_minor": 2
}
