{
 "cells": [
  {
   "cell_type": "code",
   "execution_count": 1,
   "metadata": {},
   "outputs": [],
   "source": [
    "import pandas as pd\n",
    "import pyodbc\n",
    "import sqlite3"
   ]
  },
  {
   "cell_type": "markdown",
   "metadata": {},
   "source": [
    "# iedereen heeft andere servername btw"
   ]
  },
  {
   "cell_type": "code",
   "execution_count": 2,
   "metadata": {},
   "outputs": [],
   "source": [
    "servername = 'LAPTOP-RPEMJO16\\\\SQLEXPRESS'"
   ]
  },
  {
   "cell_type": "markdown",
   "metadata": {},
   "source": [
    "# Northwind connectie"
   ]
  },
  {
   "cell_type": "code",
   "execution_count": 3,
   "metadata": {},
   "outputs": [
    {
     "data": {
      "text/plain": [
       "<pyodbc.Cursor at 0x29c7f760830>"
      ]
     },
     "execution_count": 3,
     "metadata": {},
     "output_type": "execute_result"
    }
   ],
   "source": [
    "northwind_conn = pyodbc.connect('DRIVER={SQL SERVER};SERVER='+servername+';DATABASE=NorthWind; Trusted_Connection=yes')\n",
    "nwCursor = northwind_conn.cursor()\n",
    "nwCursor"
   ]
  },
  {
   "cell_type": "markdown",
   "metadata": {},
   "source": [
    "# Adventureworks connectie"
   ]
  },
  {
   "cell_type": "code",
   "execution_count": 4,
   "metadata": {},
   "outputs": [
    {
     "data": {
      "text/plain": [
       "<pyodbc.Cursor at 0x29c7f7603b0>"
      ]
     },
     "execution_count": 4,
     "metadata": {},
     "output_type": "execute_result"
    }
   ],
   "source": [
    "adventureworks_conn = pyodbc.connect('DRIVER={SQL SERVER};SERVER='+servername+';DATABASE=AdventureWorks2019; Trusted_Connection=yes')\n",
    "awCursor = adventureworks_conn.cursor()\n",
    "awCursor"
   ]
  },
  {
   "cell_type": "markdown",
   "metadata": {},
   "source": [
    "# Aenc connectie"
   ]
  },
  {
   "cell_type": "code",
   "execution_count": 5,
   "metadata": {},
   "outputs": [
    {
     "name": "stdout",
     "output_type": "stream",
     "text": [
      "['MSysAccessStorage', 'MSysACEs', 'MSysComplexColumns', 'MSysIMEXColumns', 'MSysIMEXSpecs', 'MSysNameMap', 'MSysNavPaneGroupCategories', 'MSysNavPaneGroups', 'MSysNavPaneGroupToObjects', 'MSysNavPaneObjectIDs', 'MSysObjects', 'MSysQueries', 'MSysRelationships', 'MSysResources', 'bonus', 'customer', 'department', 'employee', 'product', 'region', 'sales_order', 'sales_order_item', 'state']\n"
     ]
    }
   ],
   "source": [
    "aenc_conn = pyodbc.connect('DRIVER={Microsoft Access Driver (*.mdb, *.accdb)};DBQ=../raw-databases/aenc.accdb;')\n",
    "aencCursor = aenc_conn.cursor()"
   ]
  },
  {
   "cell_type": "code",
   "execution_count": 6,
   "metadata": {},
   "outputs": [
    {
     "name": "stderr",
     "output_type": "stream",
     "text": [
      "C:\\Users\\kwand\\AppData\\Local\\Temp\\ipykernel_15844\\2905875312.py:1: UserWarning: pandas only supports SQLAlchemy connectable (engine/connection) or database string URI or sqlite3 DBAPI2 connection. Other DBAPI2 objects are not tested. Please consider using SQLAlchemy.\n",
      "  aenctest = pd.read_sql_query('SELECT * FROM customer', aenc_conn)\n",
      "C:\\Users\\kwand\\AppData\\Local\\Temp\\ipykernel_15844\\2905875312.py:2: UserWarning: pandas only supports SQLAlchemy connectable (engine/connection) or database string URI or sqlite3 DBAPI2 connection. Other DBAPI2 objects are not tested. Please consider using SQLAlchemy.\n",
      "  awtest = pd.read_sql_query('SELECT * FROM Person.Address', adventureworks_conn)\n",
      "C:\\Users\\kwand\\AppData\\Local\\Temp\\ipykernel_15844\\2905875312.py:3: UserWarning: pandas only supports SQLAlchemy connectable (engine/connection) or database string URI or sqlite3 DBAPI2 connection. Other DBAPI2 objects are not tested. Please consider using SQLAlchemy.\n",
      "  nwtest = pd.read_sql_query('SELECT * FROM customers', northwind_conn)\n"
     ]
    }
   ],
   "source": [
    "aenctest = pd.read_sql_query('SELECT * FROM customer', aenc_conn)\n",
    "awtest = pd.read_sql_query('SELECT * FROM Person.Address', adventureworks_conn)\n",
    "nwtest = pd.read_sql_query('SELECT * FROM customers', northwind_conn)"
   ]
  },
  {
   "cell_type": "code",
   "execution_count": 36,
   "metadata": {},
   "outputs": [
    {
     "name": "stderr",
     "output_type": "stream",
     "text": [
      "C:\\Users\\kwand\\AppData\\Local\\Temp\\ipykernel_15844\\3311397764.py:4: UserWarning: pandas only supports SQLAlchemy connectable (engine/connection) or database string URI or sqlite3 DBAPI2 connection. Other DBAPI2 objects are not tested. Please consider using SQLAlchemy.\n",
      "  nw_Emp = pd.read_sql_query('SELECT * FROM Employees', northwind_conn)\n",
      "C:\\Users\\kwand\\AppData\\Local\\Temp\\ipykernel_15844\\3311397764.py:5: UserWarning: pandas only supports SQLAlchemy connectable (engine/connection) or database string URI or sqlite3 DBAPI2 connection. Other DBAPI2 objects are not tested. Please consider using SQLAlchemy.\n",
      "  nw_Ord = pd.read_sql_query('SELECT * FROM Orders', northwind_conn)\n",
      "C:\\Users\\kwand\\AppData\\Local\\Temp\\ipykernel_15844\\3311397764.py:6: UserWarning: pandas only supports SQLAlchemy connectable (engine/connection) or database string URI or sqlite3 DBAPI2 connection. Other DBAPI2 objects are not tested. Please consider using SQLAlchemy.\n",
      "  nw_OrderDetails = pd.read_sql_query('SELECT * FROM [Order Details]', northwind_conn)\n",
      "C:\\Users\\kwand\\AppData\\Local\\Temp\\ipykernel_15844\\3311397764.py:8: UserWarning: pandas only supports SQLAlchemy connectable (engine/connection) or database string URI or sqlite3 DBAPI2 connection. Other DBAPI2 objects are not tested. Please consider using SQLAlchemy.\n",
      "  Prod_Prod = pd.read_sql_query('SELECT * FROM Production.Product', adventureworks_conn)\n",
      "C:\\Users\\kwand\\AppData\\Local\\Temp\\ipykernel_15844\\3311397764.py:9: UserWarning: pandas only supports SQLAlchemy connectable (engine/connection) or database string URI or sqlite3 DBAPI2 connection. Other DBAPI2 objects are not tested. Please consider using SQLAlchemy.\n",
      "  Prod_Inv = pd.read_sql_query('SELECT * FROM Production.ProductInventory', adventureworks_conn)\n",
      "C:\\Users\\kwand\\AppData\\Local\\Temp\\ipykernel_15844\\3311397764.py:11: UserWarning: pandas only supports SQLAlchemy connectable (engine/connection) or database string URI or sqlite3 DBAPI2 connection. Other DBAPI2 objects are not tested. Please consider using SQLAlchemy.\n",
      "  Sales_Sales = pd.read_sql_query('SELECT * FROM Sales.SalesOrderDetail', adventureworks_conn)\n",
      "C:\\Users\\kwand\\AppData\\Local\\Temp\\ipykernel_15844\\3311397764.py:12: UserWarning: pandas only supports SQLAlchemy connectable (engine/connection) or database string URI or sqlite3 DBAPI2 connection. Other DBAPI2 objects are not tested. Please consider using SQLAlchemy.\n",
      "  Sales_OrderHeader = pd.read_sql_query('SELECT * FROM Sales.SalesOrderHeader', adventureworks_conn)\n",
      "C:\\Users\\kwand\\AppData\\Local\\Temp\\ipykernel_15844\\3311397764.py:16: UserWarning: pandas only supports SQLAlchemy connectable (engine/connection) or database string URI or sqlite3 DBAPI2 connection. Other DBAPI2 objects are not tested. Please consider using SQLAlchemy.\n",
      "  AE_Customer = pd.read_sql_query('SELECT * FROM customer', aenc_conn)\n",
      "C:\\Users\\kwand\\AppData\\Local\\Temp\\ipykernel_15844\\3311397764.py:17: UserWarning: pandas only supports SQLAlchemy connectable (engine/connection) or database string URI or sqlite3 DBAPI2 connection. Other DBAPI2 objects are not tested. Please consider using SQLAlchemy.\n",
      "  AE_SalesOrderItem = pd.read_sql_query('SELECT * FROM sales_order_item', aenc_conn)\n",
      "C:\\Users\\kwand\\AppData\\Local\\Temp\\ipykernel_15844\\3311397764.py:18: UserWarning: pandas only supports SQLAlchemy connectable (engine/connection) or database string URI or sqlite3 DBAPI2 connection. Other DBAPI2 objects are not tested. Please consider using SQLAlchemy.\n",
      "  AE_SalesOrder = pd.read_sql_query('SELECT * FROM sales_order', aenc_conn)\n"
     ]
    },
    {
     "data": {
      "text/html": [
       "<div>\n",
       "<style scoped>\n",
       "    .dataframe tbody tr th:only-of-type {\n",
       "        vertical-align: middle;\n",
       "    }\n",
       "\n",
       "    .dataframe tbody tr th {\n",
       "        vertical-align: top;\n",
       "    }\n",
       "\n",
       "    .dataframe thead th {\n",
       "        text-align: right;\n",
       "    }\n",
       "</style>\n",
       "<table border=\"1\" class=\"dataframe\">\n",
       "  <thead>\n",
       "    <tr style=\"text-align: right;\">\n",
       "      <th></th>\n",
       "      <th>OrderID</th>\n",
       "      <th>ProductID</th>\n",
       "      <th>Quantity</th>\n",
       "    </tr>\n",
       "  </thead>\n",
       "  <tbody>\n",
       "    <tr>\n",
       "      <th>0</th>\n",
       "      <td>11005.0</td>\n",
       "      <td>1</td>\n",
       "      <td>2.0</td>\n",
       "    </tr>\n",
       "    <tr>\n",
       "      <th>1</th>\n",
       "      <td>10609.0</td>\n",
       "      <td>1</td>\n",
       "      <td>3.0</td>\n",
       "    </tr>\n",
       "    <tr>\n",
       "      <th>2</th>\n",
       "      <td>10838.0</td>\n",
       "      <td>1</td>\n",
       "      <td>4.0</td>\n",
       "    </tr>\n",
       "    <tr>\n",
       "      <th>3</th>\n",
       "      <td>11003.0</td>\n",
       "      <td>1</td>\n",
       "      <td>4.0</td>\n",
       "    </tr>\n",
       "    <tr>\n",
       "      <th>4</th>\n",
       "      <td>10700.0</td>\n",
       "      <td>1</td>\n",
       "      <td>5.0</td>\n",
       "    </tr>\n",
       "    <tr>\n",
       "      <th>...</th>\n",
       "      <td>...</td>\n",
       "      <td>...</td>\n",
       "      <td>...</td>\n",
       "    </tr>\n",
       "    <tr>\n",
       "      <th>2166</th>\n",
       "      <td>10886.0</td>\n",
       "      <td>77</td>\n",
       "      <td>40.0</td>\n",
       "    </tr>\n",
       "    <tr>\n",
       "      <th>2167</th>\n",
       "      <td>10946.0</td>\n",
       "      <td>77</td>\n",
       "      <td>40.0</td>\n",
       "    </tr>\n",
       "    <tr>\n",
       "      <th>2168</th>\n",
       "      <td>10451.0</td>\n",
       "      <td>77</td>\n",
       "      <td>55.0</td>\n",
       "    </tr>\n",
       "    <tr>\n",
       "      <th>2169</th>\n",
       "      <td>10590.0</td>\n",
       "      <td>77</td>\n",
       "      <td>60.0</td>\n",
       "    </tr>\n",
       "    <tr>\n",
       "      <th>2170</th>\n",
       "      <td>10658.0</td>\n",
       "      <td>77</td>\n",
       "      <td>70.0</td>\n",
       "    </tr>\n",
       "  </tbody>\n",
       "</table>\n",
       "<p>2155 rows × 3 columns</p>\n",
       "</div>"
      ],
      "text/plain": [
       "      OrderID  ProductID  Quantity\n",
       "0     11005.0          1       2.0\n",
       "1     10609.0          1       3.0\n",
       "2     10838.0          1       4.0\n",
       "3     11003.0          1       4.0\n",
       "4     10700.0          1       5.0\n",
       "...       ...        ...       ...\n",
       "2166  10886.0         77      40.0\n",
       "2167  10946.0         77      40.0\n",
       "2168  10451.0         77      55.0\n",
       "2169  10590.0         77      60.0\n",
       "2170  10658.0         77      70.0\n",
       "\n",
       "[2155 rows x 3 columns]"
      ]
     },
     "execution_count": 36,
     "metadata": {},
     "output_type": "execute_result"
    }
   ],
   "source": [
    "# Klopt echt helemaal niets van de aenc - > nw orders draw io\n",
    "\n",
    "# Select NorthWind\n",
    "nw_Emp = pd.read_sql_query('SELECT * FROM Employees', northwind_conn)\n",
    "nw_Ord = pd.read_sql_query('SELECT * FROM Orders', northwind_conn)\n",
    "nw_OrderDetails = pd.read_sql_query('SELECT * FROM [Order Details]', northwind_conn)\n",
    "# Select Adventureworks\n",
    "Prod_Prod = pd.read_sql_query('SELECT * FROM Production.Product', adventureworks_conn)\n",
    "Prod_Inv = pd.read_sql_query('SELECT * FROM Production.ProductInventory', adventureworks_conn)\n",
    "\n",
    "Sales_Sales = pd.read_sql_query('SELECT * FROM Sales.SalesOrderDetail', adventureworks_conn)\n",
    "Sales_OrderHeader = pd.read_sql_query('SELECT * FROM Sales.SalesOrderHeader', adventureworks_conn)\n",
    "\n",
    "\n",
    "# Select aenc\n",
    "AE_Customer = pd.read_sql_query('SELECT * FROM customer', aenc_conn)\n",
    "AE_SalesOrderItem = pd.read_sql_query('SELECT * FROM sales_order_item', aenc_conn)\n",
    "AE_SalesOrder = pd.read_sql_query('SELECT * FROM sales_order', aenc_conn)\n",
    "AE_SalesOrderMerged = AE_SalesOrder.merge(AE_SalesOrderItem, on='id', how='right')\n",
    "# aenc customer + nw employee ->    nw orders\n",
    "MergeNwOrders1 = AE_Customer.merge(nw_Ord, left_on='id', right_on='CustomerID', how='right')\n",
    "MergeNwOrders2 = nw_Emp.merge(MergeNwOrders1, on='EmployeeID', how='right')\n",
    "\n",
    "\n",
    "MergedProdProd = Prod_Inv.merge(Prod_Prod, how='outer')\n",
    "\n",
    "NWorderDetails1 = MergeNwOrders2.merge(nw_OrderDetails, on='OrderID', how='right')\n",
    "NWorderDetailsFinal = MergedProdProd.merge(NWorderDetails1, how='outer')\n",
    "\n",
    "OrderDetails = NWorderDetailsFinal[['OrderID', 'ProductID', 'Quantity']]\n",
    "OrderDetails.dropna()"
   ]
  }
 ],
 "metadata": {
  "kernelspec": {
   "display_name": "Python 3",
   "language": "python",
   "name": "python3"
  },
  "language_info": {
   "codemirror_mode": {
    "name": "ipython",
    "version": 3
   },
   "file_extension": ".py",
   "mimetype": "text/x-python",
   "name": "python",
   "nbconvert_exporter": "python",
   "pygments_lexer": "ipython3",
   "version": "3.12.2"
  }
 },
 "nbformat": 4,
 "nbformat_minor": 2
}
