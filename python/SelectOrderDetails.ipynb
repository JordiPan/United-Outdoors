{
 "cells": [
  {
   "cell_type": "code",
   "execution_count": 74,
   "metadata": {},
   "outputs": [],
   "source": [
    "import pandas as pd\n",
    "import pyodbc\n",
    "import sqlite3"
   ]
  },
  {
   "cell_type": "markdown",
   "metadata": {},
   "source": [
    "# iedereen heeft andere servername btw"
   ]
  },
  {
   "cell_type": "code",
   "execution_count": 75,
   "metadata": {},
   "outputs": [],
   "source": [
    "servername = 'LAPTOP-RPEMJO16\\\\SQLEXPRESS'"
   ]
  },
  {
   "cell_type": "markdown",
   "metadata": {},
   "source": [
    "# Northwind connectie"
   ]
  },
  {
   "cell_type": "code",
   "execution_count": 76,
   "metadata": {},
   "outputs": [
    {
     "data": {
      "text/plain": [
       "<pyodbc.Cursor at 0x2681e074fb0>"
      ]
     },
     "execution_count": 76,
     "metadata": {},
     "output_type": "execute_result"
    }
   ],
   "source": [
    "northwind_conn = pyodbc.connect('DRIVER={SQL SERVER};SERVER='+servername+';DATABASE=NorthWind; Trusted_Connection=yes')\n",
    "nwCursor = northwind_conn.cursor()\n",
    "nwCursor"
   ]
  },
  {
   "cell_type": "markdown",
   "metadata": {},
   "source": [
    "# Adventureworks connectie"
   ]
  },
  {
   "cell_type": "code",
   "execution_count": 77,
   "metadata": {},
   "outputs": [
    {
     "data": {
      "text/plain": [
       "<pyodbc.Cursor at 0x26830192530>"
      ]
     },
     "execution_count": 77,
     "metadata": {},
     "output_type": "execute_result"
    }
   ],
   "source": [
    "adventureworks_conn = pyodbc.connect('DRIVER={SQL SERVER};SERVER='+servername+';DATABASE=AdventureWorks2019; Trusted_Connection=yes')\n",
    "awCursor = adventureworks_conn.cursor()\n",
    "awCursor"
   ]
  },
  {
   "cell_type": "markdown",
   "metadata": {},
   "source": [
    "# Aenc connectie"
   ]
  },
  {
   "cell_type": "code",
   "execution_count": 78,
   "metadata": {},
   "outputs": [],
   "source": [
    "aenc_conn = pyodbc.connect('DRIVER={Microsoft Access Driver (*.mdb, *.accdb)};DBQ=../raw-databases/aenc.accdb;')\n",
    "aencCursor = aenc_conn.cursor()"
   ]
  },
  {
   "cell_type": "markdown",
   "metadata": {},
   "source": [
    "# Dataframes Aanmaken"
   ]
  },
  {
   "cell_type": "markdown",
   "metadata": {},
   "source": [
    "### aenc"
   ]
  },
  {
   "cell_type": "code",
   "execution_count": 80,
   "metadata": {},
   "outputs": [
    {
     "name": "stderr",
     "output_type": "stream",
     "text": [
      "C:\\Users\\kwand\\AppData\\Local\\Temp\\ipykernel_12152\\1986022038.py:1: UserWarning: pandas only supports SQLAlchemy connectable (engine/connection) or database string URI or sqlite3 DBAPI2 connection. Other DBAPI2 objects are not tested. Please consider using SQLAlchemy.\n",
      "  aE_Customer = pd.read_sql_query('SELECT * FROM customer', aenc_conn)\n",
      "C:\\Users\\kwand\\AppData\\Local\\Temp\\ipykernel_12152\\1986022038.py:2: UserWarning: pandas only supports SQLAlchemy connectable (engine/connection) or database string URI or sqlite3 DBAPI2 connection. Other DBAPI2 objects are not tested. Please consider using SQLAlchemy.\n",
      "  aE_SalesOrderItem = pd.read_sql_query('SELECT * FROM sales_order_item', aenc_conn)\n",
      "C:\\Users\\kwand\\AppData\\Local\\Temp\\ipykernel_12152\\1986022038.py:3: UserWarning: pandas only supports SQLAlchemy connectable (engine/connection) or database string URI or sqlite3 DBAPI2 connection. Other DBAPI2 objects are not tested. Please consider using SQLAlchemy.\n",
      "  aE_SalesOrder = pd.read_sql_query('SELECT * FROM sales_order', aenc_conn)\n"
     ]
    }
   ],
   "source": [
    "aE_Customer = pd.read_sql_query('SELECT * FROM customer', aenc_conn)\n",
    "aE_SalesOrderItem = pd.read_sql_query('SELECT * FROM sales_order_item', aenc_conn)\n",
    "aE_SalesOrder = pd.read_sql_query('SELECT * FROM sales_order', aenc_conn)"
   ]
  },
  {
   "cell_type": "markdown",
   "metadata": {},
   "source": [
    "### AdventureWorks"
   ]
  },
  {
   "cell_type": "code",
   "execution_count": 81,
   "metadata": {},
   "outputs": [
    {
     "name": "stderr",
     "output_type": "stream",
     "text": [
      "C:\\Users\\kwand\\AppData\\Local\\Temp\\ipykernel_12152\\3137805353.py:1: UserWarning: pandas only supports SQLAlchemy connectable (engine/connection) or database string URI or sqlite3 DBAPI2 connection. Other DBAPI2 objects are not tested. Please consider using SQLAlchemy.\n",
      "  Prod_Prod = pd.read_sql_query('SELECT * FROM Production.Product', adventureworks_conn)\n",
      "C:\\Users\\kwand\\AppData\\Local\\Temp\\ipykernel_12152\\3137805353.py:2: UserWarning: pandas only supports SQLAlchemy connectable (engine/connection) or database string URI or sqlite3 DBAPI2 connection. Other DBAPI2 objects are not tested. Please consider using SQLAlchemy.\n",
      "  Prod_Inv = pd.read_sql_query('SELECT * FROM Production.ProductInventory', adventureworks_conn)\n",
      "C:\\Users\\kwand\\AppData\\Local\\Temp\\ipykernel_12152\\3137805353.py:3: UserWarning: pandas only supports SQLAlchemy connectable (engine/connection) or database string URI or sqlite3 DBAPI2 connection. Other DBAPI2 objects are not tested. Please consider using SQLAlchemy.\n",
      "  Sales_Sales = pd.read_sql_query('SELECT * FROM Sales.SalesOrderDetail', adventureworks_conn)\n",
      "C:\\Users\\kwand\\AppData\\Local\\Temp\\ipykernel_12152\\3137805353.py:4: UserWarning: pandas only supports SQLAlchemy connectable (engine/connection) or database string URI or sqlite3 DBAPI2 connection. Other DBAPI2 objects are not tested. Please consider using SQLAlchemy.\n",
      "  Sales_OrderHeader = pd.read_sql_query('SELECT * FROM Sales.SalesOrderHeader', adventureworks_conn)\n"
     ]
    }
   ],
   "source": [
    "Prod_Prod = pd.read_sql_query('SELECT * FROM Production.Product', adventureworks_conn)\n",
    "Prod_Inv = pd.read_sql_query('SELECT * FROM Production.ProductInventory', adventureworks_conn)\n",
    "Sales_Sales = pd.read_sql_query('SELECT * FROM Sales.SalesOrderDetail', adventureworks_conn)\n",
    "Sales_OrderHeader = pd.read_sql_query('SELECT * FROM Sales.SalesOrderHeader', adventureworks_conn)\n",
    "\n",
    "av1 = pd.merge(Prod_Prod, Prod_Inv, how='outer', on=['ProductID'])"
   ]
  },
  {
   "cell_type": "markdown",
   "metadata": {},
   "source": [
    "### Northwind"
   ]
  },
  {
   "cell_type": "code",
   "execution_count": 82,
   "metadata": {},
   "outputs": [
    {
     "name": "stderr",
     "output_type": "stream",
     "text": [
      "C:\\Users\\kwand\\AppData\\Local\\Temp\\ipykernel_12152\\1119212295.py:1: UserWarning: pandas only supports SQLAlchemy connectable (engine/connection) or database string URI or sqlite3 DBAPI2 connection. Other DBAPI2 objects are not tested. Please consider using SQLAlchemy.\n",
      "  nw_Emp = pd.read_sql_query('SELECT * FROM Employees', northwind_conn)\n",
      "C:\\Users\\kwand\\AppData\\Local\\Temp\\ipykernel_12152\\1119212295.py:2: UserWarning: pandas only supports SQLAlchemy connectable (engine/connection) or database string URI or sqlite3 DBAPI2 connection. Other DBAPI2 objects are not tested. Please consider using SQLAlchemy.\n",
      "  nw_Ord = pd.read_sql_query('SELECT * FROM Orders', northwind_conn)\n",
      "C:\\Users\\kwand\\AppData\\Local\\Temp\\ipykernel_12152\\1119212295.py:3: UserWarning: pandas only supports SQLAlchemy connectable (engine/connection) or database string URI or sqlite3 DBAPI2 connection. Other DBAPI2 objects are not tested. Please consider using SQLAlchemy.\n",
      "  nw_OrderDetails = pd.read_sql_query('SELECT * FROM [Order Details]', northwind_conn)\n"
     ]
    }
   ],
   "source": [
    "nw_Emp = pd.read_sql_query('SELECT * FROM Employees', northwind_conn)\n",
    "nw_Ord = pd.read_sql_query('SELECT * FROM Orders', northwind_conn)\n",
    "nw_OrderDetails = pd.read_sql_query('SELECT * FROM [Order Details]', northwind_conn)\n",
    "\n",
    "EmpxOrd = pd.merge(nw_Emp, nw_Ord, how='outer', on='EmployeeID')"
   ]
  },
  {
   "cell_type": "code",
   "execution_count": 85,
   "metadata": {},
   "outputs": [
    {
     "data": {
      "text/plain": [
       "Index(['OrderID', 'Quantity', 'ListPrice', 'OrderDate', 'ShippedDate',\n",
       "       'ProductID', 'EmployeeID', 'CustomerID'],\n",
       "      dtype='object')"
      ]
     },
     "execution_count": 85,
     "metadata": {},
     "output_type": "execute_result"
    }
   ],
   "source": [
    "orderdetails1 = pd.merge(nw_OrderDetails, av1 , how='outer', on=['ProductID', 'Quantity'])\n",
    "orderdetails2 = pd.merge(orderdetails1, EmpxOrd, how='outer', on='OrderID')\n",
    "aE_customer = aE_Customer.rename(columns={'id': 'CustomerID'}, inplace=True)\n",
    "orderdetails3 = pd.concat([aE_Customer, orderdetails2], axis=0)\n",
    "od = orderdetails3[['OrderID', 'Quantity', 'ListPrice', 'OrderDate', 'ShippedDate', 'ProductID', 'EmployeeID', 'CustomerID']]\n",
    "od = od[od['OrderID'].notna()]\n",
    "od.columns"
   ]
  },
  {
   "cell_type": "markdown",
   "metadata": {},
   "source": [
    "### Export"
   ]
  },
  {
   "cell_type": "code",
   "execution_count": 90,
   "metadata": {},
   "outputs": [
    {
     "data": {
      "text/html": [
       "<div>\n",
       "<style scoped>\n",
       "    .dataframe tbody tr th:only-of-type {\n",
       "        vertical-align: middle;\n",
       "    }\n",
       "\n",
       "    .dataframe tbody tr th {\n",
       "        vertical-align: top;\n",
       "    }\n",
       "\n",
       "    .dataframe thead th {\n",
       "        text-align: right;\n",
       "    }\n",
       "</style>\n",
       "<table border=\"1\" class=\"dataframe\">\n",
       "  <thead>\n",
       "    <tr style=\"text-align: right;\">\n",
       "      <th></th>\n",
       "      <th>ListPrice</th>\n",
       "    </tr>\n",
       "  </thead>\n",
       "  <tbody>\n",
       "  </tbody>\n",
       "</table>\n",
       "</div>"
      ],
      "text/plain": [
       "Empty DataFrame\n",
       "Columns: [ListPrice]\n",
       "Index: []"
      ]
     },
     "execution_count": 90,
     "metadata": {},
     "output_type": "execute_result"
    }
   ],
   "source": [
    "od.dtypes\n",
    "od['id'] = range(1, len(od) + 1)"
   ]
  },
  {
   "cell_type": "code",
   "execution_count": 91,
   "metadata": {},
   "outputs": [
    {
     "data": {
      "text/plain": [
       "OrderID                 int32\n",
       "Quantity                int32\n",
       "ListPrice             float64\n",
       "OrderDate      datetime64[ns]\n",
       "ShippedDate    datetime64[ns]\n",
       "ProductID               int32\n",
       "EmployeeID              int32\n",
       "CustomerID             object\n",
       "id                      int32\n",
       "dtype: object"
      ]
     },
     "execution_count": 91,
     "metadata": {},
     "output_type": "execute_result"
    }
   ],
   "source": [
    "# Convert types\n",
    "od['id'] = od['id'].fillna(0).astype(int)\n",
    "od['OrderID'] = od['OrderID'].fillna(0).astype(int)\n",
    "od['Quantity'] = od['Quantity'].fillna(0).astype(int)\n",
    "od['ListPrice'] = od['ListPrice'].fillna(0).astype(float)\n",
    "od['OrderDate'] = pd.to_datetime(od['OrderDate']) \n",
    "od['ShippedDate'] = pd.to_datetime(od['ShippedDate']) \n",
    "od['ProductID'] = od['ProductID'].fillna(0).astype(int)\n",
    "od['EmployeeID'] = od['EmployeeID'].fillna(0).astype(int)\n",
    "od['CustomerID'] = od['CustomerID'].fillna(0).astype(str)\n",
    "od.dtypes"
   ]
  },
  {
   "cell_type": "code",
   "execution_count": 92,
   "metadata": {},
   "outputs": [
    {
     "data": {
      "text/html": [
       "<div>\n",
       "<style scoped>\n",
       "    .dataframe tbody tr th:only-of-type {\n",
       "        vertical-align: middle;\n",
       "    }\n",
       "\n",
       "    .dataframe tbody tr th {\n",
       "        vertical-align: top;\n",
       "    }\n",
       "\n",
       "    .dataframe thead th {\n",
       "        text-align: right;\n",
       "    }\n",
       "</style>\n",
       "<table border=\"1\" class=\"dataframe\">\n",
       "  <thead>\n",
       "    <tr style=\"text-align: right;\">\n",
       "      <th></th>\n",
       "      <th>OrderID</th>\n",
       "      <th>Quantity</th>\n",
       "      <th>ListPrice</th>\n",
       "      <th>OrderDate</th>\n",
       "      <th>ShippedDate</th>\n",
       "      <th>ProductID</th>\n",
       "      <th>EmployeeID</th>\n",
       "      <th>CustomerID</th>\n",
       "      <th>id</th>\n",
       "    </tr>\n",
       "  </thead>\n",
       "  <tbody>\n",
       "    <tr>\n",
       "      <th>0</th>\n",
       "      <td>10248</td>\n",
       "      <td>12</td>\n",
       "      <td>0.0</td>\n",
       "      <td>1996-07-04</td>\n",
       "      <td>1996-07-16</td>\n",
       "      <td>11</td>\n",
       "      <td>5</td>\n",
       "      <td>VINET</td>\n",
       "      <td>1</td>\n",
       "    </tr>\n",
       "    <tr>\n",
       "      <th>1</th>\n",
       "      <td>10248</td>\n",
       "      <td>10</td>\n",
       "      <td>0.0</td>\n",
       "      <td>1996-07-04</td>\n",
       "      <td>1996-07-16</td>\n",
       "      <td>42</td>\n",
       "      <td>5</td>\n",
       "      <td>VINET</td>\n",
       "      <td>2</td>\n",
       "    </tr>\n",
       "    <tr>\n",
       "      <th>2</th>\n",
       "      <td>10248</td>\n",
       "      <td>5</td>\n",
       "      <td>0.0</td>\n",
       "      <td>1996-07-04</td>\n",
       "      <td>1996-07-16</td>\n",
       "      <td>72</td>\n",
       "      <td>5</td>\n",
       "      <td>VINET</td>\n",
       "      <td>3</td>\n",
       "    </tr>\n",
       "    <tr>\n",
       "      <th>3</th>\n",
       "      <td>10249</td>\n",
       "      <td>9</td>\n",
       "      <td>0.0</td>\n",
       "      <td>1996-07-05</td>\n",
       "      <td>1996-07-10</td>\n",
       "      <td>14</td>\n",
       "      <td>6</td>\n",
       "      <td>TOMSP</td>\n",
       "      <td>4</td>\n",
       "    </tr>\n",
       "    <tr>\n",
       "      <th>4</th>\n",
       "      <td>10249</td>\n",
       "      <td>40</td>\n",
       "      <td>0.0</td>\n",
       "      <td>1996-07-05</td>\n",
       "      <td>1996-07-10</td>\n",
       "      <td>51</td>\n",
       "      <td>6</td>\n",
       "      <td>TOMSP</td>\n",
       "      <td>5</td>\n",
       "    </tr>\n",
       "    <tr>\n",
       "      <th>...</th>\n",
       "      <td>...</td>\n",
       "      <td>...</td>\n",
       "      <td>...</td>\n",
       "      <td>...</td>\n",
       "      <td>...</td>\n",
       "      <td>...</td>\n",
       "      <td>...</td>\n",
       "      <td>...</td>\n",
       "      <td>...</td>\n",
       "    </tr>\n",
       "    <tr>\n",
       "      <th>2150</th>\n",
       "      <td>11077</td>\n",
       "      <td>2</td>\n",
       "      <td>0.0</td>\n",
       "      <td>1998-05-06</td>\n",
       "      <td>NaT</td>\n",
       "      <td>64</td>\n",
       "      <td>1</td>\n",
       "      <td>RATTC</td>\n",
       "      <td>2151</td>\n",
       "    </tr>\n",
       "    <tr>\n",
       "      <th>2151</th>\n",
       "      <td>11077</td>\n",
       "      <td>1</td>\n",
       "      <td>0.0</td>\n",
       "      <td>1998-05-06</td>\n",
       "      <td>NaT</td>\n",
       "      <td>66</td>\n",
       "      <td>1</td>\n",
       "      <td>RATTC</td>\n",
       "      <td>2152</td>\n",
       "    </tr>\n",
       "    <tr>\n",
       "      <th>2152</th>\n",
       "      <td>11077</td>\n",
       "      <td>2</td>\n",
       "      <td>0.0</td>\n",
       "      <td>1998-05-06</td>\n",
       "      <td>NaT</td>\n",
       "      <td>73</td>\n",
       "      <td>1</td>\n",
       "      <td>RATTC</td>\n",
       "      <td>2153</td>\n",
       "    </tr>\n",
       "    <tr>\n",
       "      <th>2153</th>\n",
       "      <td>11077</td>\n",
       "      <td>4</td>\n",
       "      <td>0.0</td>\n",
       "      <td>1998-05-06</td>\n",
       "      <td>NaT</td>\n",
       "      <td>75</td>\n",
       "      <td>1</td>\n",
       "      <td>RATTC</td>\n",
       "      <td>2154</td>\n",
       "    </tr>\n",
       "    <tr>\n",
       "      <th>2154</th>\n",
       "      <td>11077</td>\n",
       "      <td>2</td>\n",
       "      <td>0.0</td>\n",
       "      <td>1998-05-06</td>\n",
       "      <td>NaT</td>\n",
       "      <td>77</td>\n",
       "      <td>1</td>\n",
       "      <td>RATTC</td>\n",
       "      <td>2155</td>\n",
       "    </tr>\n",
       "  </tbody>\n",
       "</table>\n",
       "<p>2155 rows × 9 columns</p>\n",
       "</div>"
      ],
      "text/plain": [
       "      OrderID  Quantity  ListPrice  OrderDate ShippedDate  ProductID  \\\n",
       "0       10248        12        0.0 1996-07-04  1996-07-16         11   \n",
       "1       10248        10        0.0 1996-07-04  1996-07-16         42   \n",
       "2       10248         5        0.0 1996-07-04  1996-07-16         72   \n",
       "3       10249         9        0.0 1996-07-05  1996-07-10         14   \n",
       "4       10249        40        0.0 1996-07-05  1996-07-10         51   \n",
       "...       ...       ...        ...        ...         ...        ...   \n",
       "2150    11077         2        0.0 1998-05-06         NaT         64   \n",
       "2151    11077         1        0.0 1998-05-06         NaT         66   \n",
       "2152    11077         2        0.0 1998-05-06         NaT         73   \n",
       "2153    11077         4        0.0 1998-05-06         NaT         75   \n",
       "2154    11077         2        0.0 1998-05-06         NaT         77   \n",
       "\n",
       "      EmployeeID CustomerID    id  \n",
       "0              5      VINET     1  \n",
       "1              5      VINET     2  \n",
       "2              5      VINET     3  \n",
       "3              6      TOMSP     4  \n",
       "4              6      TOMSP     5  \n",
       "...          ...        ...   ...  \n",
       "2150           1      RATTC  2151  \n",
       "2151           1      RATTC  2152  \n",
       "2152           1      RATTC  2153  \n",
       "2153           1      RATTC  2154  \n",
       "2154           1      RATTC  2155  \n",
       "\n",
       "[2155 rows x 9 columns]"
      ]
     },
     "execution_count": 92,
     "metadata": {},
     "output_type": "execute_result"
    }
   ],
   "source": [
    "od"
   ]
  },
  {
   "cell_type": "code",
   "execution_count": 70,
   "metadata": {},
   "outputs": [
    {
     "ename": "ProgrammingError",
     "evalue": "('42000', '[42000] [Microsoft][ODBC SQL Server Driver][SQL Server]Cannot open database \"UnitedOutdoors\" requested by the login. The login failed. (4060) (SQLDriverConnect); [42000] [Microsoft][ODBC SQL Server Driver][SQL Server]Cannot open database \"UnitedOutdoors\" requested by the login. The login failed. (4060)')",
     "output_type": "error",
     "traceback": [
      "\u001b[1;31m---------------------------------------------------------------------------\u001b[0m",
      "\u001b[1;31mProgrammingError\u001b[0m                          Traceback (most recent call last)",
      "Cell \u001b[1;32mIn[70], line 2\u001b[0m\n\u001b[0;32m      1\u001b[0m database \u001b[38;5;241m=\u001b[39m \u001b[38;5;124m\"\u001b[39m\u001b[38;5;124mUnitedOutdoors\u001b[39m\u001b[38;5;124m\"\u001b[39m\n\u001b[1;32m----> 2\u001b[0m export_conn \u001b[38;5;241m=\u001b[39m \u001b[43mpyodbc\u001b[49m\u001b[38;5;241;43m.\u001b[39;49m\u001b[43mconnect\u001b[49m\u001b[43m(\u001b[49m\u001b[38;5;124;43m\"\u001b[39;49m\u001b[38;5;124;43mDRIVER=\u001b[39;49m\u001b[38;5;124;43m{\u001b[39;49m\u001b[38;5;124;43mSQL SERVER};SERVER=\u001b[39;49m\u001b[38;5;124;43m\"\u001b[39;49m\u001b[38;5;241;43m+\u001b[39;49m\u001b[43mservername\u001b[49m\u001b[43m \u001b[49m\u001b[38;5;241;43m+\u001b[39;49m\u001b[43m \u001b[49m\u001b[38;5;124;43m\"\u001b[39;49m\u001b[38;5;124;43m;DATABASE=\u001b[39;49m\u001b[38;5;124;43m\"\u001b[39;49m\u001b[38;5;241;43m+\u001b[39;49m\u001b[43mdatabase\u001b[49m\u001b[38;5;241;43m+\u001b[39;49m\u001b[38;5;124;43m\"\u001b[39;49m\u001b[38;5;124;43m;Trusted_Connection=yes\u001b[39;49m\u001b[38;5;124;43m\"\u001b[39;49m\u001b[43m)\u001b[49m\n\u001b[0;32m      3\u001b[0m export_cursor \u001b[38;5;241m=\u001b[39m export_conn\u001b[38;5;241m.\u001b[39mcursor()\n\u001b[0;32m      4\u001b[0m export_cursor\n",
      "\u001b[1;31mProgrammingError\u001b[0m: ('42000', '[42000] [Microsoft][ODBC SQL Server Driver][SQL Server]Cannot open database \"UnitedOutdoors\" requested by the login. The login failed. (4060) (SQLDriverConnect); [42000] [Microsoft][ODBC SQL Server Driver][SQL Server]Cannot open database \"UnitedOutdoors\" requested by the login. The login failed. (4060)')"
     ]
    }
   ],
   "source": [
    "database = \"UnitedOutdoors\"\n",
    "export_conn = pyodbc.connect(\"DRIVER={SQL SERVER};SERVER=\"+servername + \";DATABASE=\"+database+\";Trusted_Connection=yes\")\n",
    "export_cursor = export_conn.cursor()\n",
    "export_cursor"
   ]
  },
  {
   "cell_type": "code",
   "execution_count": null,
   "metadata": {},
   "outputs": [],
   "source": [
    "for index, row in od.iterrows():\n",
    "    try:\n",
    "        query = \"\"\"INSERT INTO order_details (\n",
    "            order_detailsid\n",
    "            order_id,\n",
    "            product_quantity, \n",
    "            product_listprice,\n",
    "            order_date,\n",
    "            shipping_date,\n",
    "            product_productid\n",
    "            employee_employeeid,\n",
    "            customer_id\n",
    "        ) VALUES (?, ?, ?, ?, ?, ?, ?, ?, ?)\"\"\"  \n",
    "        \n",
    "        values = (\n",
    "            row['id'],\n",
    "            row['OrderID'],\n",
    "            row['Quantity'],\n",
    "            row['ListPrice'],\n",
    "            row['OrderDate'],\n",
    "            row['ShippedDate'],\n",
    "            row['ProductID'],\n",
    "            row['EmployeeID'],\n",
    "            row['CustomerID'],\n",
    "\n",
    "        )\n",
    "\n",
    "        export_cursor.execute(query, values)\n",
    "\n",
    "    except pyodbc.IntegrityError as e:\n",
    "        continue\n",
    "    except pyodbc.Error as e:\n",
    "        print(\"Er is een fout opgetreden: \", e)\n",
    "        print(\"Foutieve query: \", query)\n",
    "    \n",
    "export_conn.commit()"
   ]
  }
 ],
 "metadata": {
  "kernelspec": {
   "display_name": "Python 3",
   "language": "python",
   "name": "python3"
  },
  "language_info": {
   "codemirror_mode": {
    "name": "ipython",
    "version": 3
   },
   "file_extension": ".py",
   "mimetype": "text/x-python",
   "name": "python",
   "nbconvert_exporter": "python",
   "pygments_lexer": "ipython3",
   "version": "3.12.2"
  }
 },
 "nbformat": 4,
 "nbformat_minor": 2
}
