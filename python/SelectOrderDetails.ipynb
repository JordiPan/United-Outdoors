{
 "cells": [
  {
   "cell_type": "code",
   "execution_count": 12,
   "metadata": {},
   "outputs": [],
   "source": [
    "import pandas as pd\n",
    "import pyodbc\n",
    "import sqlite3"
   ]
  },
  {
   "cell_type": "markdown",
   "metadata": {},
   "source": [
    "# iedereen heeft andere servername btw"
   ]
  },
  {
   "cell_type": "code",
   "execution_count": 13,
   "metadata": {},
   "outputs": [],
   "source": [
    "servername = 'LAPTOP-RPEMJO16\\\\SQLEXPRESS'"
   ]
  },
  {
   "cell_type": "markdown",
   "metadata": {},
   "source": [
    "# Northwind connectie"
   ]
  },
  {
   "cell_type": "code",
   "execution_count": 14,
   "metadata": {},
   "outputs": [
    {
     "data": {
      "text/plain": [
       "<pyodbc.Cursor at 0x1ca6646feb0>"
      ]
     },
     "execution_count": 14,
     "metadata": {},
     "output_type": "execute_result"
    }
   ],
   "source": [
    "northwind_conn = pyodbc.connect('DRIVER={SQL SERVER};SERVER='+servername+';DATABASE=NorthWind; Trusted_Connection=yes')\n",
    "nwCursor = northwind_conn.cursor()\n",
    "nwCursor"
   ]
  },
  {
   "cell_type": "markdown",
   "metadata": {},
   "source": [
    "# Adventureworks connectie"
   ]
  },
  {
   "cell_type": "code",
   "execution_count": 15,
   "metadata": {},
   "outputs": [
    {
     "data": {
      "text/plain": [
       "<pyodbc.Cursor at 0x1ca6646fc30>"
      ]
     },
     "execution_count": 15,
     "metadata": {},
     "output_type": "execute_result"
    }
   ],
   "source": [
    "adventureworks_conn = pyodbc.connect('DRIVER={SQL SERVER};SERVER='+servername+';DATABASE=AdventureWorks2019; Trusted_Connection=yes')\n",
    "awCursor = adventureworks_conn.cursor()\n",
    "awCursor"
   ]
  },
  {
   "cell_type": "markdown",
   "metadata": {},
   "source": [
    "# Aenc connectie"
   ]
  },
  {
   "cell_type": "code",
   "execution_count": 16,
   "metadata": {},
   "outputs": [],
   "source": [
    "aenc_conn = pyodbc.connect('DRIVER={Microsoft Access Driver (*.mdb, *.accdb)};DBQ=../raw-databases/aenc.accdb;')\n",
    "aencCursor = aenc_conn.cursor()"
   ]
  },
  {
   "cell_type": "markdown",
   "metadata": {},
   "source": [
    "# Dataframes Aanmaken"
   ]
  },
  {
   "cell_type": "markdown",
   "metadata": {},
   "source": [
    "### aenc"
   ]
  },
  {
   "cell_type": "code",
   "execution_count": 44,
   "metadata": {},
   "outputs": [
    {
     "name": "stderr",
     "output_type": "stream",
     "text": [
      "C:\\Users\\kwand\\AppData\\Local\\Temp\\ipykernel_25112\\1986022038.py:1: UserWarning: pandas only supports SQLAlchemy connectable (engine/connection) or database string URI or sqlite3 DBAPI2 connection. Other DBAPI2 objects are not tested. Please consider using SQLAlchemy.\n",
      "  aE_Customer = pd.read_sql_query('SELECT * FROM customer', aenc_conn)\n",
      "C:\\Users\\kwand\\AppData\\Local\\Temp\\ipykernel_25112\\1986022038.py:2: UserWarning: pandas only supports SQLAlchemy connectable (engine/connection) or database string URI or sqlite3 DBAPI2 connection. Other DBAPI2 objects are not tested. Please consider using SQLAlchemy.\n",
      "  aE_SalesOrderItem = pd.read_sql_query('SELECT * FROM sales_order_item', aenc_conn)\n",
      "C:\\Users\\kwand\\AppData\\Local\\Temp\\ipykernel_25112\\1986022038.py:3: UserWarning: pandas only supports SQLAlchemy connectable (engine/connection) or database string URI or sqlite3 DBAPI2 connection. Other DBAPI2 objects are not tested. Please consider using SQLAlchemy.\n",
      "  aE_SalesOrder = pd.read_sql_query('SELECT * FROM sales_order', aenc_conn)\n"
     ]
    }
   ],
   "source": [
    "aE_Customer = pd.read_sql_query('SELECT * FROM customer', aenc_conn)\n",
    "aE_SalesOrderItem = pd.read_sql_query('SELECT * FROM sales_order_item', aenc_conn)\n",
    "aE_SalesOrder = pd.read_sql_query('SELECT * FROM sales_order', aenc_conn)"
   ]
  },
  {
   "cell_type": "markdown",
   "metadata": {},
   "source": [
    "### AdventureWorks"
   ]
  },
  {
   "cell_type": "code",
   "execution_count": 29,
   "metadata": {},
   "outputs": [
    {
     "name": "stderr",
     "output_type": "stream",
     "text": [
      "C:\\Users\\kwand\\AppData\\Local\\Temp\\ipykernel_25112\\2717629012.py:1: UserWarning: pandas only supports SQLAlchemy connectable (engine/connection) or database string URI or sqlite3 DBAPI2 connection. Other DBAPI2 objects are not tested. Please consider using SQLAlchemy.\n",
      "  Prod_Prod = pd.read_sql_query('SELECT * FROM Production.Product', adventureworks_conn)\n",
      "C:\\Users\\kwand\\AppData\\Local\\Temp\\ipykernel_25112\\2717629012.py:2: UserWarning: pandas only supports SQLAlchemy connectable (engine/connection) or database string URI or sqlite3 DBAPI2 connection. Other DBAPI2 objects are not tested. Please consider using SQLAlchemy.\n",
      "  Prod_Inv = pd.read_sql_query('SELECT * FROM Production.ProductInventory', adventureworks_conn)\n",
      "C:\\Users\\kwand\\AppData\\Local\\Temp\\ipykernel_25112\\2717629012.py:4: UserWarning: pandas only supports SQLAlchemy connectable (engine/connection) or database string URI or sqlite3 DBAPI2 connection. Other DBAPI2 objects are not tested. Please consider using SQLAlchemy.\n",
      "  Sales_Sales = pd.read_sql_query('SELECT * FROM Sales.SalesOrderDetail', adventureworks_conn)\n",
      "C:\\Users\\kwand\\AppData\\Local\\Temp\\ipykernel_25112\\2717629012.py:5: UserWarning: pandas only supports SQLAlchemy connectable (engine/connection) or database string URI or sqlite3 DBAPI2 connection. Other DBAPI2 objects are not tested. Please consider using SQLAlchemy.\n",
      "  Sales_OrderHeader = pd.read_sql_query('SELECT * FROM Sales.SalesOrderHeader', adventureworks_conn)\n"
     ]
    }
   ],
   "source": [
    "Prod_Prod = pd.read_sql_query('SELECT * FROM Production.Product', adventureworks_conn)\n",
    "Prod_Inv = pd.read_sql_query('SELECT * FROM Production.ProductInventory', adventureworks_conn)\n",
    "Sales_Sales = pd.read_sql_query('SELECT * FROM Sales.SalesOrderDetail', adventureworks_conn)\n",
    "Sales_OrderHeader = pd.read_sql_query('SELECT * FROM Sales.SalesOrderHeader', adventureworks_conn)\n",
    "\n",
    "av1 = pd.merge(Prod_Prod, Prod_Inv, how='outer', on=['ProductID', 'rowguid', 'ModifiedDate'])"
   ]
  },
  {
   "cell_type": "markdown",
   "metadata": {},
   "source": [
    "### Northwind"
   ]
  },
  {
   "cell_type": "code",
   "execution_count": 37,
   "metadata": {},
   "outputs": [
    {
     "name": "stderr",
     "output_type": "stream",
     "text": [
      "C:\\Users\\kwand\\AppData\\Local\\Temp\\ipykernel_25112\\1119212295.py:1: UserWarning: pandas only supports SQLAlchemy connectable (engine/connection) or database string URI or sqlite3 DBAPI2 connection. Other DBAPI2 objects are not tested. Please consider using SQLAlchemy.\n",
      "  nw_Emp = pd.read_sql_query('SELECT * FROM Employees', northwind_conn)\n",
      "C:\\Users\\kwand\\AppData\\Local\\Temp\\ipykernel_25112\\1119212295.py:2: UserWarning: pandas only supports SQLAlchemy connectable (engine/connection) or database string URI or sqlite3 DBAPI2 connection. Other DBAPI2 objects are not tested. Please consider using SQLAlchemy.\n",
      "  nw_Ord = pd.read_sql_query('SELECT * FROM Orders', northwind_conn)\n",
      "C:\\Users\\kwand\\AppData\\Local\\Temp\\ipykernel_25112\\1119212295.py:3: UserWarning: pandas only supports SQLAlchemy connectable (engine/connection) or database string URI or sqlite3 DBAPI2 connection. Other DBAPI2 objects are not tested. Please consider using SQLAlchemy.\n",
      "  nw_OrderDetails = pd.read_sql_query('SELECT * FROM [Order Details]', northwind_conn)\n"
     ]
    }
   ],
   "source": [
    "nw_Emp = pd.read_sql_query('SELECT * FROM Employees', northwind_conn)\n",
    "nw_Ord = pd.read_sql_query('SELECT * FROM Orders', northwind_conn)\n",
    "nw_OrderDetails = pd.read_sql_query('SELECT * FROM [Order Details]', northwind_conn)\n",
    "\n",
    "EmpxOrd = pd.merge(nw_Emp, nw_Ord, how='outer', on='EmployeeID')"
   ]
  },
  {
   "cell_type": "code",
   "execution_count": 71,
   "metadata": {},
   "outputs": [
    {
     "data": {
      "text/plain": [
       "Index(['OrderID', 'Quantity', 'ListPrice', 'OrderDate', 'ShippedDate',\n",
       "       'ProductID', 'EmployeeID', 'CustomerID'],\n",
       "      dtype='object')"
      ]
     },
     "execution_count": 71,
     "metadata": {},
     "output_type": "execute_result"
    }
   ],
   "source": [
    "orderdetails1 = pd.merge(nw_OrderDetails, av1 , how='outer', on=['ProductID', 'Quantity'])\n",
    "orderdetails2 = pd.merge(orderdetails1, EmpxOrd, how='outer', on='OrderID')\n",
    "aE_customer = aE_Customer.rename(columns={'id': 'CustomerID'}, inplace=True)\n",
    "orderdetails3 = pd.concat([aE_Customer, orderdetails2], axis=0)\n",
    "od = orderdetails3[['OrderID', 'Quantity', 'ListPrice', 'OrderDate', 'ShippedDate', 'ProductID', 'EmployeeID', 'CustomerID']]\n",
    "\n",
    "od.columns"
   ]
  },
  {
   "cell_type": "markdown",
   "metadata": {},
   "source": [
    "### Export"
   ]
  },
  {
   "cell_type": "code",
   "execution_count": 70,
   "metadata": {},
   "outputs": [
    {
     "data": {
      "text/plain": [
       "OrderID                 int32\n",
       "Quantity                int32\n",
       "ListPrice             float64\n",
       "OrderDate      datetime64[ns]\n",
       "ShippedDate    datetime64[ns]\n",
       "ProductID               int32\n",
       "EmployeeID              int32\n",
       "CustomerID             object\n",
       "dtype: object"
      ]
     },
     "execution_count": 70,
     "metadata": {},
     "output_type": "execute_result"
    }
   ],
   "source": [
    "od.dtypes"
   ]
  },
  {
   "cell_type": "code",
   "execution_count": 69,
   "metadata": {},
   "outputs": [
    {
     "name": "stderr",
     "output_type": "stream",
     "text": [
      "C:\\Users\\kwand\\AppData\\Local\\Temp\\ipykernel_25112\\1813824969.py:2: SettingWithCopyWarning: \n",
      "A value is trying to be set on a copy of a slice from a DataFrame.\n",
      "Try using .loc[row_indexer,col_indexer] = value instead\n",
      "\n",
      "See the caveats in the documentation: https://pandas.pydata.org/pandas-docs/stable/user_guide/indexing.html#returning-a-view-versus-a-copy\n",
      "  od['OrderID'] = od['OrderID'].fillna(0).astype(int)\n",
      "C:\\Users\\kwand\\AppData\\Local\\Temp\\ipykernel_25112\\1813824969.py:3: SettingWithCopyWarning: \n",
      "A value is trying to be set on a copy of a slice from a DataFrame.\n",
      "Try using .loc[row_indexer,col_indexer] = value instead\n",
      "\n",
      "See the caveats in the documentation: https://pandas.pydata.org/pandas-docs/stable/user_guide/indexing.html#returning-a-view-versus-a-copy\n",
      "  od['Quantity'] = od['Quantity'].fillna(0).astype(int)\n",
      "C:\\Users\\kwand\\AppData\\Local\\Temp\\ipykernel_25112\\1813824969.py:4: SettingWithCopyWarning: \n",
      "A value is trying to be set on a copy of a slice from a DataFrame.\n",
      "Try using .loc[row_indexer,col_indexer] = value instead\n",
      "\n",
      "See the caveats in the documentation: https://pandas.pydata.org/pandas-docs/stable/user_guide/indexing.html#returning-a-view-versus-a-copy\n",
      "  od['ListPrice'] = od['ListPrice'].fillna(0).astype(float)\n",
      "C:\\Users\\kwand\\AppData\\Local\\Temp\\ipykernel_25112\\1813824969.py:5: SettingWithCopyWarning: \n",
      "A value is trying to be set on a copy of a slice from a DataFrame.\n",
      "Try using .loc[row_indexer,col_indexer] = value instead\n",
      "\n",
      "See the caveats in the documentation: https://pandas.pydata.org/pandas-docs/stable/user_guide/indexing.html#returning-a-view-versus-a-copy\n",
      "  od['OrderDate'] = pd.to_datetime(od['OrderDate'])\n",
      "C:\\Users\\kwand\\AppData\\Local\\Temp\\ipykernel_25112\\1813824969.py:6: SettingWithCopyWarning: \n",
      "A value is trying to be set on a copy of a slice from a DataFrame.\n",
      "Try using .loc[row_indexer,col_indexer] = value instead\n",
      "\n",
      "See the caveats in the documentation: https://pandas.pydata.org/pandas-docs/stable/user_guide/indexing.html#returning-a-view-versus-a-copy\n",
      "  od['ShippedDate'] = pd.to_datetime(od['ShippedDate'])\n",
      "C:\\Users\\kwand\\AppData\\Local\\Temp\\ipykernel_25112\\1813824969.py:7: SettingWithCopyWarning: \n",
      "A value is trying to be set on a copy of a slice from a DataFrame.\n",
      "Try using .loc[row_indexer,col_indexer] = value instead\n",
      "\n",
      "See the caveats in the documentation: https://pandas.pydata.org/pandas-docs/stable/user_guide/indexing.html#returning-a-view-versus-a-copy\n",
      "  od['ProductID'] = od['ProductID'].fillna(0).astype(int)\n",
      "C:\\Users\\kwand\\AppData\\Local\\Temp\\ipykernel_25112\\1813824969.py:8: SettingWithCopyWarning: \n",
      "A value is trying to be set on a copy of a slice from a DataFrame.\n",
      "Try using .loc[row_indexer,col_indexer] = value instead\n",
      "\n",
      "See the caveats in the documentation: https://pandas.pydata.org/pandas-docs/stable/user_guide/indexing.html#returning-a-view-versus-a-copy\n",
      "  od['EmployeeID'] = od['EmployeeID'].fillna(0).astype(int)\n",
      "C:\\Users\\kwand\\AppData\\Local\\Temp\\ipykernel_25112\\1813824969.py:9: SettingWithCopyWarning: \n",
      "A value is trying to be set on a copy of a slice from a DataFrame.\n",
      "Try using .loc[row_indexer,col_indexer] = value instead\n",
      "\n",
      "See the caveats in the documentation: https://pandas.pydata.org/pandas-docs/stable/user_guide/indexing.html#returning-a-view-versus-a-copy\n",
      "  od['CustomerID'] = od['CustomerID'].fillna(0).astype(str)\n"
     ]
    },
    {
     "data": {
      "text/plain": [
       "OrderID                 int32\n",
       "Quantity                int32\n",
       "ListPrice             float64\n",
       "OrderDate      datetime64[ns]\n",
       "ShippedDate    datetime64[ns]\n",
       "ProductID               int32\n",
       "EmployeeID              int32\n",
       "CustomerID             object\n",
       "dtype: object"
      ]
     },
     "execution_count": 69,
     "metadata": {},
     "output_type": "execute_result"
    }
   ],
   "source": [
    "# Convert types\n",
    "od['OrderID'] = od['OrderID'].fillna(0).astype(int)\n",
    "od['Quantity'] = od['Quantity'].fillna(0).astype(int)\n",
    "od['ListPrice'] = od['ListPrice'].fillna(0).astype(float)\n",
    "od['OrderDate'] = pd.to_datetime(od['OrderDate']) \n",
    "od['ShippedDate'] = pd.to_datetime(od['ShippedDate']) \n",
    "od['ProductID'] = od['ProductID'].fillna(0).astype(int)\n",
    "od['EmployeeID'] = od['EmployeeID'].fillna(0).astype(int)\n",
    "od['CustomerID'] = od['CustomerID'].fillna(0).astype(str)\n",
    "od.dtypes"
   ]
  },
  {
   "cell_type": "code",
   "execution_count": null,
   "metadata": {},
   "outputs": [],
   "source": [
    "database = \"UnitedOutdoors\"\n",
    "export_conn = pyodbc.connect(\"DRIVER={SQL SERVER};SERVER=\"+servername + \";DATABASE=\"+database+\";Trusted_Connection=yes\")\n",
    "export_cursor = export_conn.cursor()\n",
    "export_cursor"
   ]
  },
  {
   "cell_type": "code",
   "execution_count": null,
   "metadata": {},
   "outputs": [],
   "source": [
    "for index, row in od.iterrows():\n",
    "    try:\n",
    "        query = \"\"\"INSERT INTO order_details (\n",
    "            order_id,\n",
    "            product_quantity, \n",
    "            product_listprice,\n",
    "            order_date,\n",
    "            shipping_date,\n",
    "            product_productid\n",
    "            employee_employeeid,\n",
    "            customer_id\n",
    "        ) VALUES (?, ?, ?, ?, ?, ?, ?, ?)\"\"\"  \n",
    "        \n",
    "        values = (\n",
    "            row['OrderID'],\n",
    "            row['Quantity'],\n",
    "            row['ListPrice'],\n",
    "            row['OrderDate'],\n",
    "            row['ShippedDate'],\n",
    "            row['ProductID'],\n",
    "            row['EmployeeID'],\n",
    "            row['CustomerID'],\n",
    "\n",
    "        )\n",
    "\n",
    "        export_cursor.execute(query, values)\n",
    "\n",
    "    except pyodbc.IntegrityError as e:\n",
    "        continue\n",
    "    except pyodbc.Error as e:\n",
    "        print(\"Er is een fout opgetreden: \", e)\n",
    "        print(\"Foutieve query: \", query)\n",
    "    \n",
    "export_conn.commit()"
   ]
  }
 ],
 "metadata": {
  "kernelspec": {
   "display_name": "Python 3",
   "language": "python",
   "name": "python3"
  },
  "language_info": {
   "codemirror_mode": {
    "name": "ipython",
    "version": 3
   },
   "file_extension": ".py",
   "mimetype": "text/x-python",
   "name": "python",
   "nbconvert_exporter": "python",
   "pygments_lexer": "ipython3",
   "version": "3.12.2"
  }
 },
 "nbformat": 4,
 "nbformat_minor": 2
}
