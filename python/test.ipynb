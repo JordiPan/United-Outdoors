{
 "cells": [
  {
   "cell_type": "code",
   "execution_count": 3,
   "metadata": {},
   "outputs": [
    {
     "name": "stderr",
     "output_type": "stream",
     "text": [
      "C:\\Users\\jordi\\AppData\\Local\\Temp\\ipykernel_7948\\2698988305.py:1: DeprecationWarning: \n",
      "Pyarrow will become a required dependency of pandas in the next major release of pandas (pandas 3.0),\n",
      "(to allow more performant data types, such as the Arrow string type, and better interoperability with other libraries)\n",
      "but was not found to be installed on your system.\n",
      "If this would cause problems for you,\n",
      "please provide us feedback at https://github.com/pandas-dev/pandas/issues/54466\n",
      "        \n",
      "  import pandas as pd\n"
     ]
    }
   ],
   "source": [
    "import pandas as pd\n",
    "import pyodbc\n",
    "import sqlite3"
   ]
  },
  {
   "cell_type": "markdown",
   "metadata": {},
   "source": [
    "# iedereen heeft andere servername btw"
   ]
  },
  {
   "cell_type": "code",
   "execution_count": 12,
   "metadata": {},
   "outputs": [],
   "source": [
    "servername = 'DESKTOP-LVEKE4S\\\\SQLEXPRESS01'"
   ]
  },
  {
   "cell_type": "markdown",
   "metadata": {},
   "source": [
    "# Northwind connectie"
   ]
  },
  {
   "cell_type": "code",
   "execution_count": 14,
   "metadata": {},
   "outputs": [
    {
     "data": {
      "text/plain": [
       "<pyodbc.Cursor at 0x1acbd4890b0>"
      ]
     },
     "execution_count": 14,
     "metadata": {},
     "output_type": "execute_result"
    }
   ],
   "source": [
    "northwind_conn = pyodbc.connect('DRIVER={SQL SERVER};SERVER='+servername+';DATABASE=NorthWind; Trusted_Connection=yes')\n",
    "nwCursor = northwind_conn.cursor()\n",
    "nwCursor"
   ]
  },
  {
   "cell_type": "markdown",
   "metadata": {},
   "source": [
    "# Adventureworks connectie"
   ]
  },
  {
   "cell_type": "code",
   "execution_count": 15,
   "metadata": {},
   "outputs": [
    {
     "data": {
      "text/plain": [
       "<pyodbc.Cursor at 0x1acbcefeeb0>"
      ]
     },
     "execution_count": 15,
     "metadata": {},
     "output_type": "execute_result"
    }
   ],
   "source": [
    "adventureworks_conn = pyodbc.connect('DRIVER={SQL SERVER};SERVER='+servername+';DATABASE=AdventureWorks2019; Trusted_Connection=yes')\n",
    "awCursor = adventureworks_conn.cursor()\n",
    "awCursor"
   ]
  },
  {
   "cell_type": "markdown",
   "metadata": {},
   "source": [
    "# Aenc connectie"
   ]
  },
  {
   "cell_type": "code",
   "execution_count": 23,
   "metadata": {},
   "outputs": [
    {
     "name": "stdout",
     "output_type": "stream",
     "text": [
      "['MSysAccessStorage', 'MSysACEs', 'MSysComplexColumns', 'MSysIMEXColumns', 'MSysIMEXSpecs', 'MSysNameMap', 'MSysNavPaneGroupCategories', 'MSysNavPaneGroups', 'MSysNavPaneGroupToObjects', 'MSysNavPaneObjectIDs', 'MSysObjects', 'MSysQueries', 'MSysRelationships', 'MSysResources', 'bonus', 'customer', 'department', 'employee', 'product', 'region', 'sales_order', 'sales_order_item', 'state']\n"
     ]
    }
   ],
   "source": [
    "aenc_conn = pyodbc.connect('DRIVER={Microsoft Access Driver (*.mdb, *.accdb)};DBQ=../raw-databases/aenc.accdb;')\n",
    "aencCursor = aenc_conn.cursor()\n",
    "\n",
    "table_names = [table_info.table_name for table_info in aencCursor.tables()]\n",
    "\n",
    "# Print table names\n",
    "print(table_names)"
   ]
  },
  {
   "cell_type": "code",
   "execution_count": 26,
   "metadata": {},
   "outputs": [
    {
     "name": "stdout",
     "output_type": "stream",
     "text": [
      "      id     fname         lname                 address         city state  \\\n",
      "0    101  Michaels        Devlin     3114 Pioneer Avenue   Rutherford    NJ   \n",
      "1    102      Beth        Reiser      1033 Whippany Road     New York    NY   \n",
      "2    103      Erin  Niedringhaus     1990 Windsor Street        Paoli    PA   \n",
      "3    104    Meghan         Mason  550 Dundas Street East    Knoxville    TN   \n",
      "4    105     Laura      McCarthy         1210 Highway 36       Carmel    IN   \n",
      "..   ...       ...           ...                     ...          ...   ...   \n",
      "121  552    Janice       O'Toole           654 West Hill    Nashville    TN   \n",
      "122  553    Stevie      Nickolas    77 Recordings Circle       Tacoma    WA   \n",
      "123  555   Philipe     Fernandez          99 Main Street  Los Angeles    CA   \n",
      "124  661  Jennifer      Stutzman       3 Back Pages Lane      Missola    IL   \n",
      "125  665   William      Thompson    91 Washington Street   Manchester    NY   \n",
      "\n",
      "       zip       phone          company_name  \n",
      "0    07070  2015558966       The Power Group  \n",
      "1    10154  2125558725             AMF Corp.  \n",
      "2    19301  2155556513    Darling Associates  \n",
      "3    37919  6155555463                P.S.C.  \n",
      "4    46032  3175558437            Amo & Sons  \n",
      "..     ...         ...                   ...  \n",
      "121  37320  6155553689          Greensleeves  \n",
      "122  96521  5095551695           It's a Hit!  \n",
      "123  90205  2135554457       Quaker Fashions  \n",
      "124  60505  7085556857  Stutzman Advertising  \n",
      "125  11700  5165552549        The Apple Farm  \n",
      "\n",
      "[126 rows x 9 columns]\n",
      "       AddressID           AddressLine1 AddressLine2       City  \\\n",
      "0              1          1970 Napa Ct.         None    Bothell   \n",
      "1              2     9833 Mt. Dias Blv.         None    Bothell   \n",
      "2              3   7484 Roundtree Drive         None    Bothell   \n",
      "3              4       9539 Glenside Dr         None    Bothell   \n",
      "4              5          1226 Shoe St.         None    Bothell   \n",
      "...          ...                    ...          ...        ...   \n",
      "19609      32517           177 11th Ave         None  Sammamish   \n",
      "19610      32518           8040 Hill Ct         None    Redmond   \n",
      "19611      32519           137 Mazatlan         None    Seattle   \n",
      "19612      32520            5863 Sierra         None   Bellevue   \n",
      "19613      32521  7145 Matchstick Drive         None  Sammamish   \n",
      "\n",
      "       StateProvinceID PostalCode  \\\n",
      "0                   79      98011   \n",
      "1                   79      98011   \n",
      "2                   79      98011   \n",
      "3                   79      98011   \n",
      "4                   79      98011   \n",
      "...                ...        ...   \n",
      "19609               79      98074   \n",
      "19610               79      98052   \n",
      "19611               79      98104   \n",
      "19612               79      98004   \n",
      "19613               79      98074   \n",
      "\n",
      "                                         SpatialLocation  \\\n",
      "0      b'\\xe6\\x10\\x00\\x00\\x01\\x0c\\xae\\x8b\\xfc(\\xbc\\xe...   \n",
      "1      b'\\xe6\\x10\\x00\\x00\\x01\\x0c\\xd6\\xfa\\x85\\x1a\\xe6...   \n",
      "2      b'\\xe6\\x10\\x00\\x00\\x01\\x0c\\x18\\xe3\\x04\\xc4\\xad...   \n",
      "3      b'\\xe6\\x10\\x00\\x00\\x01\\x0c\\x81:\\r_\\x9f\\xdeG@\\x...   \n",
      "4      b'\\xe6\\x10\\x00\\x00\\x01\\x0ca\\xc6M\\x8a\\xbb\\xd9G@...   \n",
      "...                                                  ...   \n",
      "19609  b'\\xe6\\x10\\x00\\x00\\x01\\x0c\\xbf\\xdc\\xce8m\\xd6G@...   \n",
      "19610  b'\\xe6\\x10\\x00\\x00\\x01\\x0cnU\\xa1\\x19H\\xd4G@r1\\...   \n",
      "19611  b'\\xe6\\x10\\x00\\x00\\x01\\x0c\\x12/\\x1f\\xe5\\x87\\xc...   \n",
      "19612  b'\\xe6\\x10\\x00\\x00\\x01\\x0c\\xf7W\\x1d{\\xf0\\xccG@...   \n",
      "19613  b'\\xe6\\x10\\x00\\x00\\x01\\x0c\\xeeD\\xc4\\x96;\\xcaG@...   \n",
      "\n",
      "                                    rowguid ModifiedDate  \n",
      "0      9AADCB0D-36CF-483F-84D8-585C2D4EC6E9   2007-12-04  \n",
      "1      32A54B9E-E034-4BFB-B573-A71CDE60D8C0   2008-11-30  \n",
      "2      4C506923-6D1B-452C-A07C-BAA6F5B142A4   2013-03-07  \n",
      "3      E5946C78-4BCC-477F-9FA1-CC09DE16A880   2009-02-03  \n",
      "4      FBAFF937-4A97-4AF0-81FD-B849900E9BB0   2008-12-19  \n",
      "...                                     ...          ...  \n",
      "19609  2F76ECD8-B22C-4353-BE61-09FE000E13CE   2008-12-29  \n",
      "19610  0E5F2D4F-C38F-406C-9169-8CCD754DBF94   2009-01-19  \n",
      "19611  7B2B1EE6-43A4-426D-8A7D-54DD451F716B   2009-02-11  \n",
      "19612  F72A65AD-0FD0-42FD-8760-4B83DE543926   2009-01-15  \n",
      "19613  868501B7-4B9C-4F27-896B-342689EA5980   2009-01-15  \n",
      "\n",
      "[19614 rows x 9 columns]\n",
      "   CustomerID                         CompanyName              ContactName  \\\n",
      "0       ALFKI                 Alfreds Futterkiste             Maria Anders   \n",
      "1       ANATR  Ana Trujillo Emparedados y helados             Ana Trujillo   \n",
      "2       ANTON             Antonio Moreno Taquería           Antonio Moreno   \n",
      "3       AROUT                     Around the Horn             Thomas Hardy   \n",
      "4       BERGS                  Berglunds snabbköp       Christina Berglund   \n",
      "..        ...                                 ...                      ...   \n",
      "86      WARTH                      Wartian Herkku         Pirkko Koskitalo   \n",
      "87      WELLI              Wellington Importadora            Paula Parente   \n",
      "88      WHITC                White Clover Markets           Karl Jablonski   \n",
      "89      WILMK                         Wilman Kala          Matti Karttunen   \n",
      "90      WOLZA                      Wolski  Zajazd  Zbyszek Piestrzeniewicz   \n",
      "\n",
      "                 ContactTitle                        Address         City  \\\n",
      "0        Sales Representative                  Obere Str. 57       Berlin   \n",
      "1                       Owner  Avda. de la Constitución 2222  México D.F.   \n",
      "2                       Owner                Mataderos  2312  México D.F.   \n",
      "3        Sales Representative                120 Hanover Sq.       London   \n",
      "4         Order Administrator                Berguvsvägen  8        Luleå   \n",
      "..                        ...                            ...          ...   \n",
      "86         Accounting Manager                    Torikatu 38         Oulu   \n",
      "87              Sales Manager             Rua do Mercado, 12      Resende   \n",
      "88                      Owner    305 - 14th Ave. S. Suite 3B      Seattle   \n",
      "89  Owner/Marketing Assistant                  Keskuskatu 45     Helsinki   \n",
      "90                      Owner                ul. Filtrowa 68     Warszawa   \n",
      "\n",
      "   Region PostalCode  Country           Phone             Fax  \n",
      "0    None      12209  Germany     030-0074321     030-0076545  \n",
      "1    None      05021   Mexico    (5) 555-4729    (5) 555-3745  \n",
      "2    None      05023   Mexico    (5) 555-3932            None  \n",
      "3    None    WA1 1DP       UK  (171) 555-7788  (171) 555-6750  \n",
      "4    None   S-958 22   Sweden   0921-12 34 65   0921-12 34 67  \n",
      "..    ...        ...      ...             ...             ...  \n",
      "86   None      90110  Finland      981-443655      981-443655  \n",
      "87     SP  08737-363   Brazil   (14) 555-8122            None  \n",
      "88     WA      98128      USA  (206) 555-4112  (206) 555-4115  \n",
      "89   None      21240  Finland     90-224 8858     90-224 8858  \n",
      "90   None     01-012   Poland   (26) 642-7012   (26) 642-7012  \n",
      "\n",
      "[91 rows x 11 columns]\n"
     ]
    },
    {
     "name": "stderr",
     "output_type": "stream",
     "text": [
      "C:\\Users\\jordi\\AppData\\Local\\Temp\\ipykernel_7948\\3893602639.py:1: UserWarning: pandas only supports SQLAlchemy connectable (engine/connection) or database string URI or sqlite3 DBAPI2 connection. Other DBAPI2 objects are not tested. Please consider using SQLAlchemy.\n",
      "  aenctest = pd.read_sql_query('SELECT * FROM customer', aenc_conn)\n",
      "C:\\Users\\jordi\\AppData\\Local\\Temp\\ipykernel_7948\\3893602639.py:2: UserWarning: pandas only supports SQLAlchemy connectable (engine/connection) or database string URI or sqlite3 DBAPI2 connection. Other DBAPI2 objects are not tested. Please consider using SQLAlchemy.\n",
      "  awtest = pd.read_sql_query('SELECT * FROM Person.Address', adventureworks_conn)\n",
      "C:\\Users\\jordi\\AppData\\Local\\Temp\\ipykernel_7948\\3893602639.py:3: UserWarning: pandas only supports SQLAlchemy connectable (engine/connection) or database string URI or sqlite3 DBAPI2 connection. Other DBAPI2 objects are not tested. Please consider using SQLAlchemy.\n",
      "  nwtest = pd.read_sql_query('SELECT * FROM customers', northwind_conn)\n"
     ]
    }
   ],
   "source": [
    "aenctest = pd.read_sql_query('SELECT * FROM customer', aenc_conn)\n",
    "awtest = pd.read_sql_query('SELECT * FROM Person.Address', adventureworks_conn)\n",
    "nwtest = pd.read_sql_query('SELECT * FROM customers', northwind_conn)\n",
    "\n",
    "# print(aenctest)\n",
    "# print(awtest)\n",
    "# print(nwtest)"
   ]
  }
 ],
 "metadata": {
  "kernelspec": {
   "display_name": "Python 3",
   "language": "python",
   "name": "python3"
  },
  "language_info": {
   "codemirror_mode": {
    "name": "ipython",
    "version": 3
   },
   "file_extension": ".py",
   "mimetype": "text/x-python",
   "name": "python",
   "nbconvert_exporter": "python",
   "pygments_lexer": "ipython3",
   "version": "3.12.2"
  }
 },
 "nbformat": 4,
 "nbformat_minor": 2
}
