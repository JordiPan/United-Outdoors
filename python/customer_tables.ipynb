{
 "cells": [
  {
   "cell_type": "code",
   "execution_count": 16,
   "metadata": {},
   "outputs": [],
   "source": [
    "import pandas as pd\n",
    "import pyodbc\n",
    "import sqlite3"
   ]
  },
  {
   "cell_type": "markdown",
   "metadata": {},
   "source": [
    "# iedereen heeft andere servername btw"
   ]
  },
  {
   "cell_type": "code",
   "execution_count": 17,
   "metadata": {},
   "outputs": [],
   "source": [
    "servername = 'LAPTOP-C1FMPSTV\\\\SQLEXPRESS01'"
   ]
  },
  {
   "cell_type": "markdown",
   "metadata": {},
   "source": [
    "# Northwind connectie"
   ]
  },
  {
   "cell_type": "code",
   "execution_count": 18,
   "metadata": {},
   "outputs": [
    {
     "data": {
      "text/plain": [
       "<pyodbc.Cursor at 0x2572dfbadb0>"
      ]
     },
     "execution_count": 18,
     "metadata": {},
     "output_type": "execute_result"
    }
   ],
   "source": [
    "northwind_conn = pyodbc.connect('DRIVER={SQL SERVER};SERVER='+servername+';DATABASE=NorthWind; Trusted_Connection=yes')\n",
    "nwCursor = northwind_conn.cursor()\n",
    "nwCursor"
   ]
  },
  {
   "cell_type": "markdown",
   "metadata": {},
   "source": [
    "# Adventureworks connectie"
   ]
  },
  {
   "cell_type": "code",
   "execution_count": 19,
   "metadata": {},
   "outputs": [
    {
     "data": {
      "text/plain": [
       "<pyodbc.Cursor at 0x2572dfb9fb0>"
      ]
     },
     "execution_count": 19,
     "metadata": {},
     "output_type": "execute_result"
    }
   ],
   "source": [
    "adventureworks_conn = pyodbc.connect('DRIVER={SQL SERVER};SERVER='+servername+';DATABASE=AdventureWorks2019; Trusted_Connection=yes')\n",
    "awCursor = adventureworks_conn.cursor()\n",
    "awCursor"
   ]
  },
  {
   "cell_type": "markdown",
   "metadata": {},
   "source": [
    "# Aenc connectie"
   ]
  },
  {
   "cell_type": "code",
   "execution_count": 20,
   "metadata": {},
   "outputs": [
    {
     "name": "stdout",
     "output_type": "stream",
     "text": [
      "['MSysAccessStorage', 'MSysACEs', 'MSysComplexColumns', 'MSysIMEXColumns', 'MSysIMEXSpecs', 'MSysNameMap', 'MSysNavPaneGroupCategories', 'MSysNavPaneGroups', 'MSysNavPaneGroupToObjects', 'MSysNavPaneObjectIDs', 'MSysObjects', 'MSysQueries', 'MSysRelationships', 'MSysResources', 'bonus', 'customer', 'department', 'employee', 'product', 'region', 'sales_order', 'sales_order_item', 'state']\n"
     ]
    }
   ],
   "source": [
    "aenc_conn = pyodbc.connect('DRIVER={Microsoft Access Driver (*.mdb, *.accdb)}; DBQ=../raw-databases/aenc.accdb')\n",
    "aencCursor = aenc_conn.cursor()\n",
    "\n",
    "table_names = [table_info.table_name for table_info in aencCursor.tables()]\n",
    "\n",
    "# Print table names\n",
    "print(table_names)"
   ]
  },
  {
   "cell_type": "code",
   "execution_count": 21,
   "metadata": {},
   "outputs": [
    {
     "name": "stderr",
     "output_type": "stream",
     "text": [
      "C:\\Users\\sheng\\AppData\\Local\\Temp\\ipykernel_41056\\825424140.py:1: UserWarning: pandas only supports SQLAlchemy connectable (engine/connection) or database string URI or sqlite3 DBAPI2 connection. Other DBAPI2 objects are not tested. Please consider using SQLAlchemy.\n",
      "  aenctest = pd.read_sql_query('SELECT * FROM customer', aenc_conn)\n",
      "C:\\Users\\sheng\\AppData\\Local\\Temp\\ipykernel_41056\\825424140.py:2: UserWarning: pandas only supports SQLAlchemy connectable (engine/connection) or database string URI or sqlite3 DBAPI2 connection. Other DBAPI2 objects are not tested. Please consider using SQLAlchemy.\n",
      "  awtest = pd.read_sql_query('SELECT * FROM Person.Address', adventureworks_conn)\n",
      "C:\\Users\\sheng\\AppData\\Local\\Temp\\ipykernel_41056\\825424140.py:3: UserWarning: pandas only supports SQLAlchemy connectable (engine/connection) or database string URI or sqlite3 DBAPI2 connection. Other DBAPI2 objects are not tested. Please consider using SQLAlchemy.\n",
      "  nwtest = pd.read_sql_query('SELECT * FROM customers', northwind_conn)\n"
     ]
    }
   ],
   "source": [
    "aenctest = pd.read_sql_query('SELECT * FROM customer', aenc_conn)\n",
    "awtest = pd.read_sql_query('SELECT * FROM Person.Address', adventureworks_conn)\n",
    "nwtest = pd.read_sql_query('SELECT * FROM customers', northwind_conn)\n",
    "\n",
    "# print(aenctest)\n",
    "# print(awtest)\n",
    "# print(nwtest)"
   ]
  },
  {
   "cell_type": "markdown",
   "metadata": {},
   "source": [
    "AdventureWorks Person.Person / Person.Address / Person.PersonPhone"
   ]
  },
  {
   "cell_type": "code",
   "execution_count": 22,
   "metadata": {},
   "outputs": [
    {
     "name": "stderr",
     "output_type": "stream",
     "text": [
      "C:\\Users\\sheng\\AppData\\Local\\Temp\\ipykernel_41056\\4245761193.py:1: UserWarning: pandas only supports SQLAlchemy connectable (engine/connection) or database string URI or sqlite3 DBAPI2 connection. Other DBAPI2 objects are not tested. Please consider using SQLAlchemy.\n",
      "  df_person = pd.read_sql_query('SELECT * FROM Person.Person', adventureworks_conn)\n",
      "C:\\Users\\sheng\\AppData\\Local\\Temp\\ipykernel_41056\\4245761193.py:2: UserWarning: pandas only supports SQLAlchemy connectable (engine/connection) or database string URI or sqlite3 DBAPI2 connection. Other DBAPI2 objects are not tested. Please consider using SQLAlchemy.\n",
      "  df_person_address = pd.read_sql_query('SELECT * FROM Person.Address', adventureworks_conn)\n",
      "C:\\Users\\sheng\\AppData\\Local\\Temp\\ipykernel_41056\\4245761193.py:3: UserWarning: pandas only supports SQLAlchemy connectable (engine/connection) or database string URI or sqlite3 DBAPI2 connection. Other DBAPI2 objects are not tested. Please consider using SQLAlchemy.\n",
      "  df_business_entity_address = pd.read_sql_query('SELECT * FROM Person.BusinessEntityAddress', adventureworks_conn)\n",
      "C:\\Users\\sheng\\AppData\\Local\\Temp\\ipykernel_41056\\4245761193.py:4: UserWarning: pandas only supports SQLAlchemy connectable (engine/connection) or database string URI or sqlite3 DBAPI2 connection. Other DBAPI2 objects are not tested. Please consider using SQLAlchemy.\n",
      "  df_person_phone = pd.read_sql_query('SELECT * FROM Person.PersonPhone', adventureworks_conn)\n"
     ]
    },
    {
     "data": {
      "text/html": [
       "<div>\n",
       "<style scoped>\n",
       "    .dataframe tbody tr th:only-of-type {\n",
       "        vertical-align: middle;\n",
       "    }\n",
       "\n",
       "    .dataframe tbody tr th {\n",
       "        vertical-align: top;\n",
       "    }\n",
       "\n",
       "    .dataframe thead th {\n",
       "        text-align: right;\n",
       "    }\n",
       "</style>\n",
       "<table border=\"1\" class=\"dataframe\">\n",
       "  <thead>\n",
       "    <tr style=\"text-align: right;\">\n",
       "      <th></th>\n",
       "      <th>BusinessEntityID</th>\n",
       "      <th>AddressLine1</th>\n",
       "      <th>City</th>\n",
       "      <th>PostalCode</th>\n",
       "      <th>PhoneNumber</th>\n",
       "    </tr>\n",
       "  </thead>\n",
       "  <tbody>\n",
       "    <tr>\n",
       "      <th>0</th>\n",
       "      <td>1</td>\n",
       "      <td>4350 Minute Dr.</td>\n",
       "      <td>Newport Hills</td>\n",
       "      <td>98006</td>\n",
       "      <td>697-555-0142</td>\n",
       "    </tr>\n",
       "    <tr>\n",
       "      <th>1</th>\n",
       "      <td>2</td>\n",
       "      <td>7559 Worth Ct.</td>\n",
       "      <td>Renton</td>\n",
       "      <td>98055</td>\n",
       "      <td>819-555-0175</td>\n",
       "    </tr>\n",
       "    <tr>\n",
       "      <th>2</th>\n",
       "      <td>3</td>\n",
       "      <td>2137 Birchwood Dr</td>\n",
       "      <td>Redmond</td>\n",
       "      <td>98052</td>\n",
       "      <td>212-555-0187</td>\n",
       "    </tr>\n",
       "    <tr>\n",
       "      <th>3</th>\n",
       "      <td>4</td>\n",
       "      <td>5678 Lakeview Blvd.</td>\n",
       "      <td>Minneapolis</td>\n",
       "      <td>55402</td>\n",
       "      <td>612-555-0100</td>\n",
       "    </tr>\n",
       "    <tr>\n",
       "      <th>4</th>\n",
       "      <td>5</td>\n",
       "      <td>9435 Breck Court</td>\n",
       "      <td>Bellevue</td>\n",
       "      <td>98004</td>\n",
       "      <td>849-555-0139</td>\n",
       "    </tr>\n",
       "    <tr>\n",
       "      <th>...</th>\n",
       "      <td>...</td>\n",
       "      <td>...</td>\n",
       "      <td>...</td>\n",
       "      <td>...</td>\n",
       "      <td>...</td>\n",
       "    </tr>\n",
       "    <tr>\n",
       "      <th>18793</th>\n",
       "      <td>20773</td>\n",
       "      <td>988 Mt. Everest Court</td>\n",
       "      <td>W. York</td>\n",
       "      <td>BD1 4SJ</td>\n",
       "      <td>1 (11) 500 555-0171</td>\n",
       "    </tr>\n",
       "    <tr>\n",
       "      <th>18794</th>\n",
       "      <td>20774</td>\n",
       "      <td>7413 Alpine Drive</td>\n",
       "      <td>Torrance</td>\n",
       "      <td>90505</td>\n",
       "      <td>910-555-0166</td>\n",
       "    </tr>\n",
       "    <tr>\n",
       "      <th>18795</th>\n",
       "      <td>20775</td>\n",
       "      <td>4764 East Avenue</td>\n",
       "      <td>Bremerton</td>\n",
       "      <td>98312</td>\n",
       "      <td>813-555-0148</td>\n",
       "    </tr>\n",
       "    <tr>\n",
       "      <th>18796</th>\n",
       "      <td>20776</td>\n",
       "      <td>34334, rue Jean Mermoz</td>\n",
       "      <td>Versailles</td>\n",
       "      <td>78000</td>\n",
       "      <td>1 (11) 500 555-0171</td>\n",
       "    </tr>\n",
       "    <tr>\n",
       "      <th>18797</th>\n",
       "      <td>20777</td>\n",
       "      <td>6022 La Salle Ct.</td>\n",
       "      <td>Darlinghurst</td>\n",
       "      <td>2010</td>\n",
       "      <td>1 (11) 500 555-0126</td>\n",
       "    </tr>\n",
       "  </tbody>\n",
       "</table>\n",
       "<p>18798 rows × 5 columns</p>\n",
       "</div>"
      ],
      "text/plain": [
       "       BusinessEntityID            AddressLine1           City PostalCode  \\\n",
       "0                     1         4350 Minute Dr.  Newport Hills      98006   \n",
       "1                     2          7559 Worth Ct.         Renton      98055   \n",
       "2                     3       2137 Birchwood Dr        Redmond      98052   \n",
       "3                     4     5678 Lakeview Blvd.    Minneapolis      55402   \n",
       "4                     5        9435 Breck Court       Bellevue      98004   \n",
       "...                 ...                     ...            ...        ...   \n",
       "18793             20773   988 Mt. Everest Court        W. York    BD1 4SJ   \n",
       "18794             20774       7413 Alpine Drive       Torrance      90505   \n",
       "18795             20775        4764 East Avenue      Bremerton      98312   \n",
       "18796             20776  34334, rue Jean Mermoz     Versailles      78000   \n",
       "18797             20777       6022 La Salle Ct.   Darlinghurst       2010   \n",
       "\n",
       "               PhoneNumber  \n",
       "0             697-555-0142  \n",
       "1             819-555-0175  \n",
       "2             212-555-0187  \n",
       "3             612-555-0100  \n",
       "4             849-555-0139  \n",
       "...                    ...  \n",
       "18793  1 (11) 500 555-0171  \n",
       "18794         910-555-0166  \n",
       "18795         813-555-0148  \n",
       "18796  1 (11) 500 555-0171  \n",
       "18797  1 (11) 500 555-0126  \n",
       "\n",
       "[18798 rows x 5 columns]"
      ]
     },
     "execution_count": 22,
     "metadata": {},
     "output_type": "execute_result"
    }
   ],
   "source": [
    "df_person = pd.read_sql_query('SELECT * FROM Person.Person', adventureworks_conn)\n",
    "df_person_address = pd.read_sql_query('SELECT * FROM Person.Address', adventureworks_conn)\n",
    "df_business_entity_address = pd.read_sql_query('SELECT * FROM Person.BusinessEntityAddress', adventureworks_conn)\n",
    "df_person_phone = pd.read_sql_query('SELECT * FROM Person.PersonPhone', adventureworks_conn)\n",
    "\n",
    "merged_df_aw = pd.merge(df_person, df_business_entity_address, on='BusinessEntityID', how='inner')\n",
    "merged_df_aw = pd.merge(merged_df_aw, df_person_address, on='AddressID', how='inner')\n",
    "merged_df_aw = merged_df_aw.drop(columns=['rowguid_x', 'SpatialLocation', 'ModifiedDate_x', 'rowguid_y', 'ModifiedDate_y', 'rowguid', 'ModifiedDate', 'PersonType', 'NameStyle', 'Title', 'Suffix', 'EmailPromotion', 'AdditionalContactInfo', 'Demographics', 'rowguid', 'ModifiedDate'])\n",
    "merged_df_aw = pd.merge(merged_df_aw, df_person_phone, on='BusinessEntityID', how='inner')\n",
    "merged_df_aw = merged_df_aw.drop(columns=['FirstName', 'MiddleName', 'LastName', 'AddressID', 'AddressTypeID', 'AddressLine2', 'StateProvinceID', 'PhoneNumberTypeID', 'ModifiedDate'])\n",
    "# remove columns that are not needed\n",
    "\n",
    "merged_df_aw\n"
   ]
  },
  {
   "cell_type": "markdown",
   "metadata": {},
   "source": [
    "aenc customer"
   ]
  },
  {
   "cell_type": "code",
   "execution_count": 23,
   "metadata": {},
   "outputs": [
    {
     "name": "stderr",
     "output_type": "stream",
     "text": [
      "C:\\Users\\sheng\\AppData\\Local\\Temp\\ipykernel_41056\\3911038392.py:1: UserWarning: pandas only supports SQLAlchemy connectable (engine/connection) or database string URI or sqlite3 DBAPI2 connection. Other DBAPI2 objects are not tested. Please consider using SQLAlchemy.\n",
      "  df_aenc_customer = pd.read_sql_query('SELECT * FROM customer', aenc_conn)\n"
     ]
    },
    {
     "data": {
      "text/html": [
       "<div>\n",
       "<style scoped>\n",
       "    .dataframe tbody tr th:only-of-type {\n",
       "        vertical-align: middle;\n",
       "    }\n",
       "\n",
       "    .dataframe tbody tr th {\n",
       "        vertical-align: top;\n",
       "    }\n",
       "\n",
       "    .dataframe thead th {\n",
       "        text-align: right;\n",
       "    }\n",
       "</style>\n",
       "<table border=\"1\" class=\"dataframe\">\n",
       "  <thead>\n",
       "    <tr style=\"text-align: right;\">\n",
       "      <th></th>\n",
       "      <th>id</th>\n",
       "      <th>fname</th>\n",
       "      <th>lname</th>\n",
       "      <th>address</th>\n",
       "      <th>city</th>\n",
       "      <th>state</th>\n",
       "      <th>zip</th>\n",
       "      <th>phone</th>\n",
       "      <th>company_name</th>\n",
       "    </tr>\n",
       "  </thead>\n",
       "  <tbody>\n",
       "    <tr>\n",
       "      <th>0</th>\n",
       "      <td>101</td>\n",
       "      <td>Michaels</td>\n",
       "      <td>Devlin</td>\n",
       "      <td>3114 Pioneer Avenue</td>\n",
       "      <td>Rutherford</td>\n",
       "      <td>NJ</td>\n",
       "      <td>07070</td>\n",
       "      <td>2015558966</td>\n",
       "      <td>The Power Group</td>\n",
       "    </tr>\n",
       "    <tr>\n",
       "      <th>1</th>\n",
       "      <td>102</td>\n",
       "      <td>Beth</td>\n",
       "      <td>Reiser</td>\n",
       "      <td>1033 Whippany Road</td>\n",
       "      <td>New York</td>\n",
       "      <td>NY</td>\n",
       "      <td>10154</td>\n",
       "      <td>2125558725</td>\n",
       "      <td>AMF Corp.</td>\n",
       "    </tr>\n",
       "    <tr>\n",
       "      <th>2</th>\n",
       "      <td>103</td>\n",
       "      <td>Erin</td>\n",
       "      <td>Niedringhaus</td>\n",
       "      <td>1990 Windsor Street</td>\n",
       "      <td>Paoli</td>\n",
       "      <td>PA</td>\n",
       "      <td>19301</td>\n",
       "      <td>2155556513</td>\n",
       "      <td>Darling Associates</td>\n",
       "    </tr>\n",
       "    <tr>\n",
       "      <th>3</th>\n",
       "      <td>104</td>\n",
       "      <td>Meghan</td>\n",
       "      <td>Mason</td>\n",
       "      <td>550 Dundas Street East</td>\n",
       "      <td>Knoxville</td>\n",
       "      <td>TN</td>\n",
       "      <td>37919</td>\n",
       "      <td>6155555463</td>\n",
       "      <td>P.S.C.</td>\n",
       "    </tr>\n",
       "    <tr>\n",
       "      <th>4</th>\n",
       "      <td>105</td>\n",
       "      <td>Laura</td>\n",
       "      <td>McCarthy</td>\n",
       "      <td>1210 Highway 36</td>\n",
       "      <td>Carmel</td>\n",
       "      <td>IN</td>\n",
       "      <td>46032</td>\n",
       "      <td>3175558437</td>\n",
       "      <td>Amo &amp; Sons</td>\n",
       "    </tr>\n",
       "    <tr>\n",
       "      <th>...</th>\n",
       "      <td>...</td>\n",
       "      <td>...</td>\n",
       "      <td>...</td>\n",
       "      <td>...</td>\n",
       "      <td>...</td>\n",
       "      <td>...</td>\n",
       "      <td>...</td>\n",
       "      <td>...</td>\n",
       "      <td>...</td>\n",
       "    </tr>\n",
       "    <tr>\n",
       "      <th>121</th>\n",
       "      <td>552</td>\n",
       "      <td>Janice</td>\n",
       "      <td>O'Toole</td>\n",
       "      <td>654 West Hill</td>\n",
       "      <td>Nashville</td>\n",
       "      <td>TN</td>\n",
       "      <td>37320</td>\n",
       "      <td>6155553689</td>\n",
       "      <td>Greensleeves</td>\n",
       "    </tr>\n",
       "    <tr>\n",
       "      <th>122</th>\n",
       "      <td>553</td>\n",
       "      <td>Stevie</td>\n",
       "      <td>Nickolas</td>\n",
       "      <td>77 Recordings Circle</td>\n",
       "      <td>Tacoma</td>\n",
       "      <td>WA</td>\n",
       "      <td>96521</td>\n",
       "      <td>5095551695</td>\n",
       "      <td>It's a Hit!</td>\n",
       "    </tr>\n",
       "    <tr>\n",
       "      <th>123</th>\n",
       "      <td>555</td>\n",
       "      <td>Philipe</td>\n",
       "      <td>Fernandez</td>\n",
       "      <td>99 Main Street</td>\n",
       "      <td>Los Angeles</td>\n",
       "      <td>CA</td>\n",
       "      <td>90205</td>\n",
       "      <td>2135554457</td>\n",
       "      <td>Quaker Fashions</td>\n",
       "    </tr>\n",
       "    <tr>\n",
       "      <th>124</th>\n",
       "      <td>661</td>\n",
       "      <td>Jennifer</td>\n",
       "      <td>Stutzman</td>\n",
       "      <td>3 Back Pages Lane</td>\n",
       "      <td>Missola</td>\n",
       "      <td>IL</td>\n",
       "      <td>60505</td>\n",
       "      <td>7085556857</td>\n",
       "      <td>Stutzman Advertising</td>\n",
       "    </tr>\n",
       "    <tr>\n",
       "      <th>125</th>\n",
       "      <td>665</td>\n",
       "      <td>William</td>\n",
       "      <td>Thompson</td>\n",
       "      <td>91 Washington Street</td>\n",
       "      <td>Manchester</td>\n",
       "      <td>NY</td>\n",
       "      <td>11700</td>\n",
       "      <td>5165552549</td>\n",
       "      <td>The Apple Farm</td>\n",
       "    </tr>\n",
       "  </tbody>\n",
       "</table>\n",
       "<p>126 rows × 9 columns</p>\n",
       "</div>"
      ],
      "text/plain": [
       "      id     fname         lname                 address         city state  \\\n",
       "0    101  Michaels        Devlin     3114 Pioneer Avenue   Rutherford    NJ   \n",
       "1    102      Beth        Reiser      1033 Whippany Road     New York    NY   \n",
       "2    103      Erin  Niedringhaus     1990 Windsor Street        Paoli    PA   \n",
       "3    104    Meghan         Mason  550 Dundas Street East    Knoxville    TN   \n",
       "4    105     Laura      McCarthy         1210 Highway 36       Carmel    IN   \n",
       "..   ...       ...           ...                     ...          ...   ...   \n",
       "121  552    Janice       O'Toole           654 West Hill    Nashville    TN   \n",
       "122  553    Stevie      Nickolas    77 Recordings Circle       Tacoma    WA   \n",
       "123  555   Philipe     Fernandez          99 Main Street  Los Angeles    CA   \n",
       "124  661  Jennifer      Stutzman       3 Back Pages Lane      Missola    IL   \n",
       "125  665   William      Thompson    91 Washington Street   Manchester    NY   \n",
       "\n",
       "       zip       phone          company_name  \n",
       "0    07070  2015558966       The Power Group  \n",
       "1    10154  2125558725             AMF Corp.  \n",
       "2    19301  2155556513    Darling Associates  \n",
       "3    37919  6155555463                P.S.C.  \n",
       "4    46032  3175558437            Amo & Sons  \n",
       "..     ...         ...                   ...  \n",
       "121  37320  6155553689          Greensleeves  \n",
       "122  96521  5095551695           It's a Hit!  \n",
       "123  90205  2135554457       Quaker Fashions  \n",
       "124  60505  7085556857  Stutzman Advertising  \n",
       "125  11700  5165552549        The Apple Farm  \n",
       "\n",
       "[126 rows x 9 columns]"
      ]
     },
     "execution_count": 23,
     "metadata": {},
     "output_type": "execute_result"
    }
   ],
   "source": [
    "df_aenc_customer = pd.read_sql_query('SELECT * FROM customer', aenc_conn)\n",
    "df_aenc_customer"
   ]
  },
  {
   "cell_type": "markdown",
   "metadata": {},
   "source": [
    "NorthWind customers"
   ]
  },
  {
   "cell_type": "code",
   "execution_count": 24,
   "metadata": {},
   "outputs": [
    {
     "name": "stderr",
     "output_type": "stream",
     "text": [
      "C:\\Users\\sheng\\AppData\\Local\\Temp\\ipykernel_41056\\2771955829.py:1: UserWarning: pandas only supports SQLAlchemy connectable (engine/connection) or database string URI or sqlite3 DBAPI2 connection. Other DBAPI2 objects are not tested. Please consider using SQLAlchemy.\n",
      "  df_northwind_customers = pd.read_sql_query('SELECT * FROM customers', northwind_conn)\n"
     ]
    }
   ],
   "source": [
    "df_northwind_customers = pd.read_sql_query('SELECT * FROM customers', northwind_conn)"
   ]
  },
  {
   "cell_type": "markdown",
   "metadata": {},
   "source": [
    "Specifieke Data eruit halen"
   ]
  },
  {
   "cell_type": "code",
   "execution_count": 25,
   "metadata": {},
   "outputs": [
    {
     "name": "stderr",
     "output_type": "stream",
     "text": [
      "C:\\Users\\sheng\\AppData\\Local\\Temp\\ipykernel_41056\\2429267359.py:7: SettingWithCopyWarning: \n",
      "A value is trying to be set on a copy of a slice from a DataFrame.\n",
      "Try using .loc[row_indexer,col_indexer] = value instead\n",
      "\n",
      "See the caveats in the documentation: https://pandas.pydata.org/pandas-docs/stable/user_guide/indexing.html#returning-a-view-versus-a-copy\n",
      "  df_northwind_customers_selected['Source'] = \"NW\"\n",
      "C:\\Users\\sheng\\AppData\\Local\\Temp\\ipykernel_41056\\2429267359.py:8: SettingWithCopyWarning: \n",
      "A value is trying to be set on a copy of a slice from a DataFrame.\n",
      "Try using .loc[row_indexer,col_indexer] = value instead\n",
      "\n",
      "See the caveats in the documentation: https://pandas.pydata.org/pandas-docs/stable/user_guide/indexing.html#returning-a-view-versus-a-copy\n",
      "  df_aenc_customer_selected['Source'] = \"AC\"\n"
     ]
    }
   ],
   "source": [
    "# Select specific columns and rename them\n",
    "df_aw_customers_selected = merged_df_aw[['BusinessEntityID', 'AddressLine1', 'City', 'PostalCode', 'PhoneNumber']]\n",
    "df_northwind_customers_selected = df_northwind_customers[['CustomerID', 'CompanyName', 'Address', 'City', 'PostalCode', 'Phone']]\n",
    "df_aenc_customer_selected = df_aenc_customer[['id', 'address', 'city', 'zip', 'phone', 'company_name']]\n",
    "\n",
    "df_aw_customers_selected['Source'] = \"AW\"\n",
    "df_northwind_customers_selected['Source'] = \"NW\"\n",
    "df_aenc_customer_selected['Source'] = \"AC\"\n",
    "\n"
   ]
  },
  {
   "cell_type": "markdown",
   "metadata": {},
   "source": [
    "Samenvoegen in Customer DF"
   ]
  },
  {
   "cell_type": "code",
   "execution_count": 26,
   "metadata": {},
   "outputs": [
    {
     "data": {
      "text/html": [
       "<div>\n",
       "<style scoped>\n",
       "    .dataframe tbody tr th:only-of-type {\n",
       "        vertical-align: middle;\n",
       "    }\n",
       "\n",
       "    .dataframe tbody tr th {\n",
       "        vertical-align: top;\n",
       "    }\n",
       "\n",
       "    .dataframe thead th {\n",
       "        text-align: right;\n",
       "    }\n",
       "</style>\n",
       "<table border=\"1\" class=\"dataframe\">\n",
       "  <thead>\n",
       "    <tr style=\"text-align: right;\">\n",
       "      <th></th>\n",
       "      <th>customer_id</th>\n",
       "      <th>customer_company_name</th>\n",
       "      <th>customer_address</th>\n",
       "      <th>customer_city</th>\n",
       "      <th>customer_zip</th>\n",
       "      <th>customer_phone</th>\n",
       "      <th>source</th>\n",
       "    </tr>\n",
       "  </thead>\n",
       "  <tbody>\n",
       "    <tr>\n",
       "      <th>0</th>\n",
       "      <td>ALFKI</td>\n",
       "      <td>Alfreds Futterkiste</td>\n",
       "      <td>Obere Str. 57</td>\n",
       "      <td>Berlin</td>\n",
       "      <td>12209</td>\n",
       "      <td>030-0074321</td>\n",
       "      <td>NW</td>\n",
       "    </tr>\n",
       "    <tr>\n",
       "      <th>1</th>\n",
       "      <td>ANATR</td>\n",
       "      <td>Ana Trujillo Emparedados y helados</td>\n",
       "      <td>Avda. de la Constitución 2222</td>\n",
       "      <td>México D.F.</td>\n",
       "      <td>05021</td>\n",
       "      <td>(5) 555-4729</td>\n",
       "      <td>NW</td>\n",
       "    </tr>\n",
       "    <tr>\n",
       "      <th>2</th>\n",
       "      <td>ANTON</td>\n",
       "      <td>Antonio Moreno Taquería</td>\n",
       "      <td>Mataderos  2312</td>\n",
       "      <td>México D.F.</td>\n",
       "      <td>05023</td>\n",
       "      <td>(5) 555-3932</td>\n",
       "      <td>NW</td>\n",
       "    </tr>\n",
       "    <tr>\n",
       "      <th>3</th>\n",
       "      <td>AROUT</td>\n",
       "      <td>Around the Horn</td>\n",
       "      <td>120 Hanover Sq.</td>\n",
       "      <td>London</td>\n",
       "      <td>WA1 1DP</td>\n",
       "      <td>(171) 555-7788</td>\n",
       "      <td>NW</td>\n",
       "    </tr>\n",
       "    <tr>\n",
       "      <th>4</th>\n",
       "      <td>BERGS</td>\n",
       "      <td>Berglunds snabbk?p</td>\n",
       "      <td>Berguvsv?gen  8</td>\n",
       "      <td>Lule?</td>\n",
       "      <td>S-958 22</td>\n",
       "      <td>0921-12 34 65</td>\n",
       "      <td>NW</td>\n",
       "    </tr>\n",
       "    <tr>\n",
       "      <th>...</th>\n",
       "      <td>...</td>\n",
       "      <td>...</td>\n",
       "      <td>...</td>\n",
       "      <td>...</td>\n",
       "      <td>...</td>\n",
       "      <td>...</td>\n",
       "      <td>...</td>\n",
       "    </tr>\n",
       "    <tr>\n",
       "      <th>18793</th>\n",
       "      <td>20773</td>\n",
       "      <td>None</td>\n",
       "      <td>988 Mt. Everest Court</td>\n",
       "      <td>W. York</td>\n",
       "      <td>BD1 4SJ</td>\n",
       "      <td>1 (11) 500 555-0171</td>\n",
       "      <td>AW</td>\n",
       "    </tr>\n",
       "    <tr>\n",
       "      <th>18794</th>\n",
       "      <td>20774</td>\n",
       "      <td>None</td>\n",
       "      <td>7413 Alpine Drive</td>\n",
       "      <td>Torrance</td>\n",
       "      <td>90505</td>\n",
       "      <td>910-555-0166</td>\n",
       "      <td>AW</td>\n",
       "    </tr>\n",
       "    <tr>\n",
       "      <th>18795</th>\n",
       "      <td>20775</td>\n",
       "      <td>None</td>\n",
       "      <td>4764 East Avenue</td>\n",
       "      <td>Bremerton</td>\n",
       "      <td>98312</td>\n",
       "      <td>813-555-0148</td>\n",
       "      <td>AW</td>\n",
       "    </tr>\n",
       "    <tr>\n",
       "      <th>18796</th>\n",
       "      <td>20776</td>\n",
       "      <td>None</td>\n",
       "      <td>34334, rue Jean Mermoz</td>\n",
       "      <td>Versailles</td>\n",
       "      <td>78000</td>\n",
       "      <td>1 (11) 500 555-0171</td>\n",
       "      <td>AW</td>\n",
       "    </tr>\n",
       "    <tr>\n",
       "      <th>18797</th>\n",
       "      <td>20777</td>\n",
       "      <td>None</td>\n",
       "      <td>6022 La Salle Ct.</td>\n",
       "      <td>Darlinghurst</td>\n",
       "      <td>2010</td>\n",
       "      <td>1 (11) 500 555-0126</td>\n",
       "      <td>AW</td>\n",
       "    </tr>\n",
       "  </tbody>\n",
       "</table>\n",
       "<p>19015 rows × 7 columns</p>\n",
       "</div>"
      ],
      "text/plain": [
       "      customer_id               customer_company_name  \\\n",
       "0           ALFKI                 Alfreds Futterkiste   \n",
       "1           ANATR  Ana Trujillo Emparedados y helados   \n",
       "2           ANTON             Antonio Moreno Taquería   \n",
       "3           AROUT                     Around the Horn   \n",
       "4           BERGS                  Berglunds snabbk?p   \n",
       "...           ...                                 ...   \n",
       "18793       20773                                None   \n",
       "18794       20774                                None   \n",
       "18795       20775                                None   \n",
       "18796       20776                                None   \n",
       "18797       20777                                None   \n",
       "\n",
       "                    customer_address customer_city customer_zip  \\\n",
       "0                      Obere Str. 57        Berlin        12209   \n",
       "1      Avda. de la Constitución 2222   México D.F.        05021   \n",
       "2                    Mataderos  2312   México D.F.        05023   \n",
       "3                    120 Hanover Sq.        London      WA1 1DP   \n",
       "4                    Berguvsv?gen  8         Lule?     S-958 22   \n",
       "...                              ...           ...          ...   \n",
       "18793          988 Mt. Everest Court       W. York      BD1 4SJ   \n",
       "18794              7413 Alpine Drive      Torrance        90505   \n",
       "18795               4764 East Avenue     Bremerton        98312   \n",
       "18796         34334, rue Jean Mermoz    Versailles        78000   \n",
       "18797              6022 La Salle Ct.  Darlinghurst         2010   \n",
       "\n",
       "            customer_phone source  \n",
       "0              030-0074321     NW  \n",
       "1             (5) 555-4729     NW  \n",
       "2             (5) 555-3932     NW  \n",
       "3           (171) 555-7788     NW  \n",
       "4            0921-12 34 65     NW  \n",
       "...                    ...    ...  \n",
       "18793  1 (11) 500 555-0171     AW  \n",
       "18794         910-555-0166     AW  \n",
       "18795         813-555-0148     AW  \n",
       "18796  1 (11) 500 555-0171     AW  \n",
       "18797  1 (11) 500 555-0126     AW  \n",
       "\n",
       "[19015 rows x 7 columns]"
      ]
     },
     "execution_count": 26,
     "metadata": {},
     "output_type": "execute_result"
    }
   ],
   "source": [
    "# Concatenate the dataframes along axis 0 to stack them vertically\n",
    "customer = pd.concat([df_northwind_customers_selected, df_aenc_customer_selected, df_aw_customers_selected], axis=0)\n",
    "\n",
    "\n",
    "# BusinessEntityID has .0 at the end of the values, remove it if value is null leave it as it is\n",
    "customer['BusinessEntityID'] = customer['BusinessEntityID'].apply(lambda x: str(x).replace('.0', '') if not pd.isnull(x) else x)\n",
    "\n",
    "# Reassign values for columns as per the specified criteria\n",
    "customer['customer_id'] = customer.apply(lambda row: str(row['BusinessEntityID']) if not pd.isnull(row['BusinessEntityID']) else str(row['CustomerID']) if not pd.isnull(row['CustomerID']) else row['id'], axis=1)\n",
    "customer['customer_company_name'] = customer['company_name'].combine_first(customer['CompanyName'])\n",
    "customer['customer_address'] = customer['address'].combine_first(customer['Address']).combine_first(customer['AddressLine1'])\n",
    "customer['customer_city'] = customer['city'].combine_first(customer['City'])\n",
    "customer['customer_zip'] = customer['PostalCode'].combine_first(customer['zip'])\n",
    "customer['customer_phone'] = customer['phone'].combine_first(customer['PhoneNumber']).combine_first(customer['Phone'])\n",
    "customer['source'] = customer['Source']\n",
    "\n",
    "# Drop redundant columns\n",
    "customer.drop(['BusinessEntityID', 'CustomerID', 'CompanyName', 'Address', 'AddressLine1', 'City', 'PostalCode', 'PhoneNumber', 'Phone'], axis=1, inplace=True)\n",
    "\n",
    "# Reorder the columns\n",
    "customer = customer[['customer_id', 'customer_company_name', 'customer_address', 'customer_city', 'customer_zip', 'customer_phone','source']]\n",
    "\n",
    "# Display where id is 101\n",
    "customer=customer.where(pd.notna(customer), None)\n",
    "customer"
   ]
  },
  {
   "cell_type": "markdown",
   "metadata": {},
   "source": [
    "Convert types to varchar"
   ]
  },
  {
   "cell_type": "code",
   "execution_count": 27,
   "metadata": {},
   "outputs": [
    {
     "data": {
      "text/plain": [
       "customer_id              object\n",
       "customer_company_name    object\n",
       "customer_address         object\n",
       "customer_city            object\n",
       "customer_zip             object\n",
       "customer_phone           object\n",
       "source                   object\n",
       "dtype: object"
      ]
     },
     "execution_count": 27,
     "metadata": {},
     "output_type": "execute_result"
    }
   ],
   "source": [
    "\n",
    "customer.dtypes"
   ]
  },
  {
   "cell_type": "code",
   "execution_count": 28,
   "metadata": {},
   "outputs": [
    {
     "data": {
      "text/plain": [
       "<pyodbc.Cursor at 0x2571b29e8b0>"
      ]
     },
     "execution_count": 28,
     "metadata": {},
     "output_type": "execute_result"
    }
   ],
   "source": [
    "united_conn = pyodbc.connect('DRIVER={SQL SERVER};SERVER='+servername+';DATABASE=UnitedOutdoors; Trusted_Connection=yes')\n",
    "unitedCursor = united_conn.cursor()\n",
    "unitedCursor"
   ]
  },
  {
   "cell_type": "code",
   "execution_count": 29,
   "metadata": {},
   "outputs": [
    {
     "name": "stdout",
     "output_type": "stream",
     "text": [
      "Data is succesvol geïmporteerd in de UnitedOutdoors database\n"
     ]
    }
   ],
   "source": [
    "for index, row in customer.iterrows():\n",
    "    try:\n",
    "        query = \"\"\"INSERT INTO customer (\n",
    "            customer_id,\n",
    "            customer_company_name, \n",
    "            customer_address, \n",
    "            customer_city,\n",
    "            customer_zip,\n",
    "            customer_phone,\n",
    "            customer_source\n",
    "        ) VALUES (?, ?, ?, ?, ?, ?, ?)\"\"\"  \n",
    "        \n",
    "        values = (\n",
    "            row['customer_id'],\n",
    "            row['customer_company_name'],\n",
    "            row['customer_address'],\n",
    "            row['customer_city'],\n",
    "            row['customer_zip'],\n",
    "            row['customer_phone'],\n",
    "            row['source']\n",
    "        )\n",
    "\n",
    "        unitedCursor.execute(query, values)\n",
    "\n",
    "    except pyodbc.IntegrityError as e:\n",
    "        continue\n",
    "    except pyodbc.Error as e:\n",
    "        print(\"Er is een fout opgetreden: \", e)\n",
    "        print(\"Foutieve query: \", query)\n",
    "    \n",
    "unitedCursor.commit()\n",
    "\n",
    "print(\"Data is succesvol geïmporteerd in de UnitedOutdoors database\")"
   ]
  },
  {
   "cell_type": "code",
   "execution_count": 30,
   "metadata": {},
   "outputs": [],
   "source": [
    "aenc_conn.close()"
   ]
  }
 ],
 "metadata": {
  "kernelspec": {
   "display_name": "Python 3",
   "language": "python",
   "name": "python3"
  },
  "language_info": {
   "codemirror_mode": {
    "name": "ipython",
    "version": 3
   },
   "file_extension": ".py",
   "mimetype": "text/x-python",
   "name": "python",
   "nbconvert_exporter": "python",
   "pygments_lexer": "ipython3",
   "version": "3.12.2"
  }
 },
 "nbformat": 4,
 "nbformat_minor": 2
}
